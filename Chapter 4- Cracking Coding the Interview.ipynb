{
 "cells": [
  {
   "cell_type": "markdown",
   "metadata": {},
   "source": [
    "## Helper Methods"
   ]
  },
  {
   "cell_type": "code",
   "execution_count": 2,
   "metadata": {},
   "outputs": [
    {
     "name": "stdout",
     "output_type": "stream",
     "text": [
      "\n",
      "*** Tree Elements***\n",
      "27 14 10 8 12 19 18 21 35 31 30 33 42 40 43 \n",
      "*** visiualize Tree***\n",
      "rank= 4\n",
      "\n",
      "                27                \n",
      "        14                35        \n",
      "    10        19        31        42    \n",
      "  8    12    18    21    30    33    40    43  \n",
      "\n",
      "\n",
      "\n",
      " *** Tree Traversal\n",
      "Pre order:     [27, 14, 10, 8, 12, 19, 18, 21, 35, 31, 30, 33, 42, 40, 43]\n",
      "Post order:    [8, 12, 10, 18, 21, 19, 14, 30, 33, 31, 40, 43, 42, 35, 27]\n",
      "Inorder:       [8, 10, 12, 14, 18, 19, 21, 27, 30, 31, 33, 35, 40, 42, 43]\n",
      "\n",
      "*** Breadth First Search ***\n",
      "27 14 35 10 19 31 42 8 12 18 21 30 33 40 43 \n",
      "\n",
      "*** Depth First Search ***\n",
      "8 10 12 14 18 19 21 27 30 31 33 35 40 42 43 \n"
     ]
    }
   ],
   "source": [
    "import math\n",
    "\n",
    "class Node:\n",
    "    \n",
    "    def __init__(self, data):\n",
    "        self.data=data\n",
    "        self.left= None\n",
    "        self.right=None\n",
    "\n",
    "        \n",
    "    def insertNode(self, data):\n",
    "        \n",
    "        if not self.data:\n",
    "            self.data= data\n",
    "            return 0\n",
    "        \n",
    "        if self.data>data:\n",
    "            if self.left:\n",
    "                self.left.insertNode(data)\n",
    "            else:\n",
    "                self.left= Node(data)\n",
    "            \n",
    "        elif self.data<data:\n",
    "            if self.right:\n",
    "                self.right.insertNode(data)\n",
    "            else:\n",
    "                self.right= Node(data)\n",
    "                \n",
    "                \n",
    "                \n",
    "    def find_value_dfs(self, data):\n",
    "        \n",
    "        if  data<self.data:\n",
    "            if self.left:\n",
    "                self.left.find_value_dfs(data)\n",
    "            else:\n",
    "                print (\" Not Found\")\n",
    "                \n",
    "        elif  data>self.data:\n",
    "            if self.right:\n",
    "                self.right.find_value_dfs(data)\n",
    "            else:\n",
    "                print (\" Not Found\")\n",
    "\n",
    "        else:\n",
    "            print(\"Found\")\n",
    "            \n",
    " \n",
    "    def findval(self, data):\n",
    "        \n",
    "        if data < self.data:\n",
    "            if not self.left:\n",
    "                return  \"Not Found\"\n",
    "            return self.left.findval(data)\n",
    "        \n",
    "        elif data > self.data:\n",
    "            if not self.right:\n",
    "                return \"Not Found\"\n",
    "            return self.right.findval(data)\n",
    "        \n",
    "        else:\n",
    "            return 'Found'\n",
    "    \n",
    "    \n",
    "    def bfs_print(self):\n",
    "        \n",
    "        qu=[self] \n",
    "        \n",
    "        while qu:\n",
    "            n=qu.pop(0)\n",
    "            print(n.data, end=\" \")\n",
    "            \n",
    "            if n.left:\n",
    "              qu.append(n.left) \n",
    "\n",
    "            if n.right:\n",
    "              qu.append(n.right)\n",
    "\n",
    "    \n",
    "        \n",
    "    def bfs(self):\n",
    "        \n",
    "        qu=[self] \n",
    "        index=0\n",
    "        \n",
    "        while index<len(qu):\n",
    "            n=qu[index]\n",
    "\n",
    "            if n.left:\n",
    "              qu.append(n.left) \n",
    "\n",
    "            if n.right:\n",
    "              qu.append(n.right)\n",
    "            \n",
    "            index+=1\n",
    "            \n",
    "        return qu\n",
    "    \n",
    "   \n",
    " \n",
    "\n",
    "            \n",
    "    def dfs(self, qu=[]):              \n",
    "        if self.left:\n",
    "         self.left.dfs( qu)\n",
    "\n",
    "        qu.append(self)\n",
    "\n",
    "        if self.right:\n",
    "          self.right.dfs( qu)\n",
    "            \n",
    "        return qu\n",
    "            \n",
    "    def dfs_print(self):\n",
    "        ans=self.dfs()\n",
    "        printNodelist(ans)\n",
    "        \n",
    "        \n",
    "    def printTree(self):\n",
    "        \n",
    "        print(self.data, end= \" \")\n",
    "            \n",
    "        if self.left: \n",
    "            self.left.printTree()\n",
    "\n",
    "        #print(\"  \")\n",
    "        \n",
    "        if self.right:\n",
    "            self.right.printTree()\n",
    "            \n",
    "   \n",
    "\n",
    "        \n",
    "    # Preorder traversal Root -> Left ->Right\n",
    "    def PreorderTraversal(self, res=[]):\n",
    "        \n",
    "        res.append(self.data)\n",
    "        \n",
    "        if self.left:\n",
    "            self.left.PreorderTraversal( res)\n",
    "            \n",
    "        if self.right:   \n",
    "            self.right.PreorderTraversal( res)\n",
    "            \n",
    "        return res\n",
    "    \n",
    "    \n",
    "    \n",
    "    \n",
    "    # Inorder traversal  Left -> Root -> Right\n",
    "    def inorderTraversal (self, res=[]):\n",
    "        \n",
    "        if self.left:\n",
    "            self.left.inorderTraversal( res)\n",
    "            \n",
    "        res.append(self.data)\n",
    "            \n",
    "        if self.right:   \n",
    "            self.right.inorderTraversal( res)\n",
    "            \n",
    "        return res  \n",
    "    \n",
    "    # Postorder traversal Left ->Right -> Root\n",
    "    def PostorderTraversal(self, res=[]):\n",
    "        \n",
    "        if self.left:\n",
    "            self.left.PostorderTraversal(res)\n",
    "            \n",
    "        if self.right:   \n",
    "            self.right.PostorderTraversal(res)\n",
    "            \n",
    "        res.append(self.data)\n",
    "            \n",
    "        return res  \n",
    "            \n",
    " \n",
    "\n",
    "     # works for complete and perfect binary tree only\n",
    "    def visiualizeTree(self):\n",
    "        tree=self.bfs()\n",
    "        \n",
    "        if not tree:\n",
    "            print(\"tree is empty\")\n",
    "            return -1\n",
    "        \n",
    "        \n",
    "        rank=int(math.log(len(tree),2)+1)\n",
    "        print(\"rank=\", rank)\n",
    "        level=0\n",
    "        while level<rank:\n",
    "            \n",
    "            print(\"\")\n",
    "            space=(2**(rank+1))//(2**(level+1))\n",
    "            \n",
    "            \n",
    "            \n",
    "            for i in range(2**level):\n",
    "                self.printSpace(space)\n",
    "                if tree:\n",
    "                   print(tree.pop(0).data, end=\"\")\n",
    "                extra=1-i%2\n",
    "                extra=0\n",
    "                self.printSpace(space+extra)\n",
    "\n",
    "            level+=1\n",
    "            \n",
    "        print(\"\\n\\n\")\n",
    "            \n",
    "    @staticmethod\n",
    "    def printSpace(num):\n",
    "        for i in range(num):\n",
    "            print(\" \", end=\"\")\n",
    "            \n",
    "    @staticmethod        \n",
    "    def printNodelist(arr):\n",
    "        for elem in arr:\n",
    "            print(elem.data, end=\" \")\n",
    "        print()\n",
    "        \n",
    "        \n",
    "root = Node(27)\n",
    "root.insertNode(14)\n",
    "root.insertNode(35)\n",
    "root.insertNode(10)\n",
    "root.insertNode(19)\n",
    "root.insertNode(31)\n",
    "root.insertNode(42)\n",
    "root.insertNode(8)\n",
    "root.insertNode(12)\n",
    "root.insertNode(18)\n",
    "root.insertNode(21)\n",
    "root.insertNode(30)\n",
    "root.insertNode(33)\n",
    "root.insertNode(40)\n",
    "root.insertNode(43)\n",
    " \n",
    "#        27\n",
    "#  14          35\n",
    "#10  19      31  42\n",
    "\n",
    "\n",
    "\n",
    "print(\"\\n*** Tree Elements***\")\n",
    "root.printTree()\n",
    "\n",
    "print(\"\\n*** visiualize Tree***\")\n",
    "root.visiualizeTree()\n",
    "# print(\"***\")\n",
    "# print(root.find_value_dfs(7))\n",
    "# print(root.find_value_dfs(14))\n",
    "\n",
    "print(\"\\n *** Tree Traversal\")\n",
    "print(\"Pre order:    \", root.PreorderTraversal( ))\n",
    "print(\"Post order:   \", root.PostorderTraversal())\n",
    "print(\"Inorder:      \", root.inorderTraversal())\n",
    "\n",
    "print(\"\\n*** Breadth First Search ***\")\n",
    "ans=root.bfs()\n",
    "Node.printNodelist(ans)\n",
    "\n",
    "    \n",
    "print(\"\\n*** Depth First Search ***\")\n",
    "ans=root.dfs()\n",
    "Node.printNodelist(ans)"
   ]
  },
  {
   "cell_type": "code",
   "execution_count": 3,
   "metadata": {},
   "outputs": [],
   "source": [
    "def bfs_print(node):\n",
    "    qu=[node] \n",
    "\n",
    "    while qu:\n",
    "        n=qu.pop(0)\n",
    "        print(n.data, end=\" \")\n",
    "\n",
    "        if n.left:\n",
    "          qu.append(n.left) \n",
    "\n",
    "        if n.right:\n",
    "          qu.append(n.right)\n",
    "        \n",
    "        \n",
    "    \n",
    "def bfs(node):\n",
    "    qu=[node] \n",
    "    index=0\n",
    "\n",
    "    while index<len(qu):\n",
    "        n=qu[index]\n",
    "\n",
    "        if n.left:\n",
    "          qu.append(n.left) \n",
    "\n",
    "        if n.right:\n",
    "          qu.append(n.right)\n",
    "\n",
    "        index+=1\n",
    "\n",
    "    return qu\n",
    "\n",
    "# works for complete and perfect binary tree only\n",
    "def visiualizeTree(node):\n",
    "    tree=bfs(node)\n",
    "\n",
    "    if not tree:\n",
    "        print(\"tree is empty\")\n",
    "        return -1\n",
    "\n",
    "\n",
    "    rank=int(math.log(len(tree),2)+1)\n",
    "    level=0\n",
    "    while level<rank:\n",
    "\n",
    "        print(\"\")\n",
    "        space=(2**(rank+1))//(2**(level+1))\n",
    "\n",
    "\n",
    "\n",
    "        for i in range(2**level):\n",
    "            printSpace(space)\n",
    "            if tree:\n",
    "               print(tree.pop(0).data, end=\"\")\n",
    "            extra=1-i%2\n",
    "            extra=0\n",
    "            printSpace(space+extra)\n",
    "\n",
    "        level+=1\n",
    "\n",
    "    print(\"\\n\\n\")\n",
    "    \n",
    " \n",
    "def printSpace(num):\n",
    "    for i in range(num):\n",
    "        print(\" \", end=\"\")\n",
    "\n",
    "\n",
    "def printNodelist(arr):\n",
    "    for elem in arr:\n",
    "        print(elem.data, end=\" \")\n",
    "    print()\n",
    "    \n",
    "    \n",
    "def printTree(node):\n",
    "\n",
    "   \n",
    "\n",
    "    if node.left: \n",
    "         printTree(node.left)\n",
    "            \n",
    "    print(node.data, end= \" \")\n",
    "\n",
    "    if node.right:\n",
    "        printTree(node.right)"
   ]
  },
  {
   "cell_type": "code",
   "execution_count": 4,
   "metadata": {},
   "outputs": [
    {
     "name": "stdout",
     "output_type": "stream",
     "text": [
      "[4, 6, 15, 43, 46, 77]\n",
      "\n",
      "4 6 15 43 46 77 \n",
      "        15        \n",
      "    4        46    \n",
      "  6    43    77      \n",
      "\n",
      "\n"
     ]
    }
   ],
   "source": [
    "\n",
    "class node:\n",
    "    def __init__(self, data):\n",
    "        self.data=data\n",
    "        self.left= None\n",
    "        self.right= None\n",
    "        \n",
    "    def __str__(self):   \n",
    "        return self.data\n",
    "    \n",
    "    \n",
    "def makeTree(arr,qu=[]):\n",
    "    \n",
    "    n=None\n",
    "    if  arr:\n",
    "        midIndex=(len(arr)-1)//2\n",
    "        n=node(arr[midIndex])\n",
    "        qu.append(n)\n",
    "        n.left,_= makeTree(arr[:midIndex],qu)\n",
    "        n.right,_= makeTree(arr[midIndex+1:], qu)\n",
    "    \n",
    "    return n,qu \n",
    "\n",
    "\n",
    "\n",
    "\n",
    "\n",
    "import random\n",
    "import math\n",
    "\n",
    "arr=random.sample(range(100),6)\n",
    "arr.sort()\n",
    "\n",
    "print(arr)\n",
    "\n",
    "\n",
    "sampleTree,_=makeTree(arr)\n",
    "print()\n",
    "#printNodelist(n)\n",
    "\n",
    "printTree(sampleTree)\n",
    "visiualizeTree(sampleTree)"
   ]
  },
  {
   "cell_type": "markdown",
   "metadata": {},
   "source": [
    "# Q1 - Is there a route between start to end?"
   ]
  },
  {
   "cell_type": "code",
   "execution_count": 80,
   "metadata": {},
   "outputs": [],
   "source": [
    "from collections import deque \n",
    "graph = {\n",
    "  'A' : ['B','C'],\n",
    "  'B' : ['D', 'E'],\n",
    "  'C' : ['E'],\n",
    "  'D' : ['F'],\n",
    "  'E' : ['C', 'D'],\n",
    "  'F' : ['E']\n",
    "}"
   ]
  },
  {
   "cell_type": "code",
   "execution_count": 81,
   "metadata": {},
   "outputs": [
    {
     "data": {
      "text/plain": [
       "True"
      ]
     },
     "execution_count": 81,
     "metadata": {},
     "output_type": "execute_result"
    }
   ],
   "source": [
    "\n",
    "def exits_path_bfs(graph, start, end):\n",
    "    \n",
    "    q=deque(start)\n",
    "    visited=set(q)\n",
    "    \n",
    "    \n",
    "    while q:\n",
    "        node=q.popleft()\n",
    "        if node == end:\n",
    "            return True\n",
    "        \n",
    "        for edge in graph[node]:\n",
    "\n",
    "            if edge not in visited:\n",
    "                visited.add(edge)\n",
    "                q.append(edge)\n",
    "                \n",
    "    return False\n",
    "\n",
    "                \n",
    "            \n",
    "    \n",
    "    \n",
    "exits_path_bfs(graph, 'A', 'F')        "
   ]
  },
  {
   "cell_type": "markdown",
   "metadata": {},
   "source": [
    "# Q2 Creat a Binary Search Tree with Minimal Height using a sorted Array"
   ]
  },
  {
   "cell_type": "code",
   "execution_count": 82,
   "metadata": {},
   "outputs": [
    {
     "data": {
      "text/plain": [
       "[4, 6, 7, 13, 17, 19, 40, 43, 48, 51]"
      ]
     },
     "execution_count": 82,
     "metadata": {},
     "output_type": "execute_result"
    }
   ],
   "source": [
    "import random\n",
    "arr=random.sample(range(100),10)\n",
    "arr.sort()\n",
    "\n",
    "arr"
   ]
  },
  {
   "cell_type": "code",
   "execution_count": 83,
   "metadata": {},
   "outputs": [],
   "source": [
    "class node:\n",
    "    def __init__(self, data):\n",
    "        self.data=data\n",
    "        self.left= None\n",
    "        self.right= None\n",
    "        "
   ]
  },
  {
   "cell_type": "markdown",
   "metadata": {},
   "source": [
    "##  Option 1"
   ]
  },
  {
   "cell_type": "code",
   "execution_count": 84,
   "metadata": {},
   "outputs": [
    {
     "name": "stdout",
     "output_type": "stream",
     "text": [
      "4 6 7 13 17 19 40 43 48 51 \n",
      "                17                \n",
      "        6                43        \n",
      "    4        7        19        48    \n",
      "  13    40    51                      \n",
      "\n",
      "\n"
     ]
    }
   ],
   "source": [
    "\n",
    "def ArrayToBinaryTree(array):\n",
    "    return helper(array, 0, len(array)-1 )\n",
    "\n",
    "\n",
    "def helper(array, start, end):\n",
    "    if start > end:\n",
    "        return ''\n",
    "    mid = (start + end) // 2\n",
    "    root = node(array[mid])\n",
    "    root.left = helper(array, start, mid - 1)\n",
    "    root.right = helper(array, mid + 1, end)\n",
    "    return root\n",
    "\n",
    "\n",
    "n=ArrayToBinaryTree(arr)\n",
    "printTree(n)\n",
    "visiualizeTree(n)"
   ]
  },
  {
   "cell_type": "markdown",
   "metadata": {},
   "source": [
    "##  Option 2"
   ]
  },
  {
   "cell_type": "code",
   "execution_count": 88,
   "metadata": {},
   "outputs": [
    {
     "name": "stdout",
     "output_type": "stream",
     "text": [
      "sorted array [4, 6, 7, 13, 17, 19, 40, 43, 48, 51]\n",
      "Tree\n",
      "17 6 4 7 13 43 19 40 48 51 \n",
      "\n",
      "\n",
      "\n",
      "4 6 7 13 17 19 40 43 48 51 \n",
      "                17                \n",
      "        6                43        \n",
      "    4        7        19        48    \n",
      "  13    40    51                      \n",
      "\n",
      "\n"
     ]
    }
   ],
   "source": [
    "def makeTree(arr,qu=[]):\n",
    "    \n",
    "    \n",
    "    if not arr:\n",
    "        #qu.append(node(\"Null\"))\n",
    "        return None, qu\n",
    "\n",
    "        \n",
    "    midIndex=(len(arr)-1)//2\n",
    "    n=node(arr[midIndex])\n",
    "    qu.append(n)\n",
    "    n.left,_= makeTree(arr[:midIndex],qu)  # set node left\n",
    "    n.right,_= makeTree(arr[midIndex+1:], qu) # set node right\n",
    "\n",
    "    return n,qu \n",
    "\n",
    "\n",
    "print(\"sorted array\", arr)    \n",
    "n,q=makeTree(arr)\n",
    "print(\"Tree\")  \n",
    "printNodelist(q)\n",
    "\n",
    "print(\"\\n\\n\")\n",
    "printTree(n)\n",
    "visiualizeTree(n)\n",
    " "
   ]
  },
  {
   "cell_type": "code",
   "execution_count": 89,
   "metadata": {},
   "outputs": [
    {
     "name": "stdout",
     "output_type": "stream",
     "text": [
      "17 6 43 4 7 19 48 13 40 51 "
     ]
    }
   ],
   "source": [
    "bfs_print(n)"
   ]
  },
  {
   "cell_type": "markdown",
   "metadata": {},
   "source": [
    "# Q3 Create a linked List for all the nodes in each depth of a tree"
   ]
  },
  {
   "cell_type": "markdown",
   "metadata": {},
   "source": [
    "## Option 1 "
   ]
  },
  {
   "cell_type": "code",
   "execution_count": 35,
   "metadata": {},
   "outputs": [],
   "source": [
    "from collections import defaultdict\n",
    "\n",
    "def createLinkedLists(root):\n",
    "    ans=[]\n",
    "    list_=bfs(root)\n",
    "    \n",
    "    for level,nodes in list_.items():\n",
    "        l=linkedList()\n",
    "        for tree_node in nodes:\n",
    "            l.insert_node(tree_node.data)\n",
    "        ans.append(l)\n",
    "    return ans\n",
    "\n",
    "\n",
    "\n",
    "def bfs(root):\n",
    "    qu=defaultdict(list)\n",
    "    qu[0]=[root]\n",
    "    index=0\n",
    "    \n",
    "    while index<len(qu):\n",
    "        for node in qu[index]:\n",
    "            if node.left:\n",
    "                qu[index+1].append(node.left)\n",
    "            if node.right:\n",
    "                qu[index+1].append(node.right)\n",
    "\n",
    "        index+=1\n",
    "    return qu\n",
    "    \n",
    "    \n",
    "class LinkedListNode:\n",
    "    def __init__(self,data):\n",
    "        self.data=data\n",
    "        self.next=None\n",
    "        \n",
    "class linkedList:\n",
    "    def __init__(self):\n",
    "        self.head=None\n",
    "    \n",
    "    def insert_node(self, data):\n",
    "        node=LinkedListNode(data)\n",
    "        node.next=self.head\n",
    "        self.head=node\n",
    "        \n",
    "    def pr(self):\n",
    "        \n",
    "        node=self.head\n",
    "            \n",
    "        while node:\n",
    "            print(node.data, end=\" -> \")\n",
    "            node=node.next\n",
    "            "
   ]
  },
  {
   "cell_type": "code",
   "execution_count": 39,
   "metadata": {},
   "outputs": [
    {
     "name": "stdout",
     "output_type": "stream",
     "text": [
      "Sample Tree:\n",
      "15 4 46 6 43 77 \n",
      " Answer:\n",
      "15 -> None\n",
      "46 -> 4 -> None\n",
      "77 -> 43 -> 6 -> None\n"
     ]
    }
   ],
   "source": [
    "    \n",
    "# Driver Code\n",
    "# use n from previous question\n",
    "print(\"Sample Tree:\")\n",
    "bfs_print(sampleTree)\n",
    "\n",
    "print(\"\\nAnswer:\")\n",
    "linkedlists=createLinkedLists(sampleTree)\n",
    "for level in linkedlists:\n",
    "    print(level.pr())\n",
    "\n"
   ]
  },
  {
   "cell_type": "markdown",
   "metadata": {},
   "source": [
    "## Option 2"
   ]
  },
  {
   "cell_type": "code",
   "execution_count": 43,
   "metadata": {},
   "outputs": [],
   "source": [
    "def createLinkedLists(root):\n",
    "    \n",
    "    ans=[]\n",
    "    level=0\n",
    "    qu=[ (root, level)]\n",
    "    \n",
    "    \n",
    "    while qu:\n",
    "        \n",
    "        n,level=qu.pop(0)\n",
    "        \n",
    "        llNode=LinkedListNode(n.data)\n",
    "        # if the leve is already created\n",
    "        if level< len(ans):\n",
    "            ans[level][-1].next= llNode # add link to the previous node\n",
    "            ans[level].append(llNode)\n",
    "        else:\n",
    "            ans.append([llNode])\n",
    "        \n",
    "        if n.left:\n",
    "            qu.append((n.left,level+1))\n",
    "            \n",
    "        if n.right:\n",
    "            qu.append((n.right, level+1))\n",
    "        \n",
    "    return ans\n",
    "    \n",
    "class LinkedListNode:\n",
    "    def __init__(self,data):\n",
    "        self.data=data\n",
    "        self.next=None"
   ]
  },
  {
   "cell_type": "code",
   "execution_count": 45,
   "metadata": {},
   "outputs": [
    {
     "name": "stdout",
     "output_type": "stream",
     "text": [
      " [  15   ] \n",
      " [  4  46   ] \n",
      " [  6  43  77   ] \n"
     ]
    }
   ],
   "source": [
    "    \n",
    "# Driver Code\n",
    "# use n from previous question\n",
    "linkedlists=createLinkedLists(sampleTree)\n",
    "\n",
    "for level in linkedlists:\n",
    "    print(\" [ \", end=\" \")\n",
    "    for node in level:\n",
    "        #print(node.treeNode.data, end=\"  \")\n",
    "        print(node.data, end=\"  \")\n",
    "    print(\" ] \")"
   ]
  },
  {
   "cell_type": "markdown",
   "metadata": {},
   "source": [
    "## Option 3"
   ]
  },
  {
   "cell_type": "code",
   "execution_count": 47,
   "metadata": {},
   "outputs": [
    {
     "name": "stdout",
     "output_type": "stream",
     "text": [
      " [  15   ] \n",
      " [  4  46   ] \n",
      " [  6  43  77   ] \n"
     ]
    }
   ],
   "source": [
    "\n",
    "class linkedListNode:\n",
    "    def __init__(self, node):\n",
    "        self.treeNode=node\n",
    "        self.next=None\n",
    "        \n",
    "    \n",
    "        \n",
    "class treeNode:\n",
    "    def __init__(self, data):\n",
    "         self.data=data\n",
    "         self.left=None\n",
    "         self.right=None\n",
    "            \n",
    "\n",
    "def createLinkedLists(root):\n",
    "        \n",
    "        ans=[]\n",
    "        \n",
    "        #add root \n",
    "        ans.append([linkedListNode(root)])\n",
    "        \n",
    "        \n",
    "        while True:\n",
    "\n",
    "            lst=[]\n",
    "            \n",
    "            # add childeren to lst\n",
    "            for n in ans[-1]:\n",
    "                if n.treeNode.left:\n",
    "                    addNode(lst, n.treeNode.left)\n",
    "                    \n",
    "                if n.treeNode.right:\n",
    "                    addNode(lst, n.treeNode.right)\n",
    "\n",
    "            # add lst to ans\n",
    "            if lst:\n",
    "                ans.append(lst)\n",
    "            \n",
    "            # if reached the last level\n",
    "            else:\n",
    "                return ans\n",
    " \n",
    "\n",
    "def addNode(lst, node):\n",
    "   \n",
    "    LL_Node=linkedListNode(node)\n",
    "    \n",
    "    if len(lst)>0:\n",
    "        lst[-1].next= LL_Node\n",
    "        \n",
    "    lst.append(LL_Node)\n",
    "    \n",
    "    \n",
    "    \n",
    "# Driver code\n",
    "# use n from previous question\n",
    "linkedlists=createLinkedLists(sampleTree)\n",
    "\n",
    "for level in linkedlists:\n",
    "    print(\" [ \", end=\" \")\n",
    "    for node in level:\n",
    "        print(node.treeNode.data, end=\"  \")\n",
    "    print(\" ] \")"
   ]
  },
  {
   "cell_type": "code",
   "execution_count": 48,
   "metadata": {},
   "outputs": [
    {
     "name": "stdout",
     "output_type": "stream",
     "text": [
      "4\n",
      "46\n"
     ]
    }
   ],
   "source": [
    "print(linkedlists[1][0].treeNode.data)\n",
    "print(linkedlists[1][0].next.treeNode.data)"
   ]
  },
  {
   "cell_type": "markdown",
   "metadata": {},
   "source": [
    "#  Q4 If a binary tree is balanced?"
   ]
  },
  {
   "cell_type": "code",
   "execution_count": 86,
   "metadata": {},
   "outputs": [],
   "source": [
    "def check_balanced(root):\n",
    "    return abs(getHeight(root.left)- getHeight(root.right))<=1\n",
    "    \n",
    "    \n",
    "def getHeight(node):\n",
    "    if not node:\n",
    "        return 0\n",
    "    \n",
    "    return max(getHeight(node.left), getHeight(node.right))+1\n",
    "    "
   ]
  },
  {
   "cell_type": "code",
   "execution_count": 89,
   "metadata": {},
   "outputs": [
    {
     "data": {
      "text/plain": [
       "True"
      ]
     },
     "execution_count": 89,
     "metadata": {},
     "output_type": "execute_result"
    }
   ],
   "source": [
    "a=Node(9)\n",
    "b=Node(2)\n",
    "c=Node(3)\n",
    "d=Node(4)\n",
    "e=Node(5)\n",
    "\n",
    "\n",
    "a.left= b\n",
    "a.right=c\n",
    "c.left=d\n",
    "b.left=e\n",
    "\n",
    "getHeight(a)\n",
    "check_balanced(a)"
   ]
  },
  {
   "cell_type": "code",
   "execution_count": 90,
   "metadata": {},
   "outputs": [
    {
     "data": {
      "text/plain": [
       "True"
      ]
     },
     "execution_count": 90,
     "metadata": {},
     "output_type": "execute_result"
    }
   ],
   "source": [
    "check_balanced(sampleTree)"
   ]
  },
  {
   "cell_type": "markdown",
   "metadata": {},
   "source": [
    "### Other Options"
   ]
  },
  {
   "cell_type": "code",
   "execution_count": 92,
   "metadata": {},
   "outputs": [],
   "source": [
    "# good to learn the mechanisim, it returns two outputs\n",
    "\n",
    "broken=False\n",
    "\n",
    "def count(root, space=\"\"):\n",
    "        global broken\n",
    "\n",
    "        if broken:\n",
    "            return -1000,False  # return -1000 to make the diff between right and left more than 1\n",
    "        \n",
    "        if root==None:\n",
    "            return 0, not broken\n",
    "        \n",
    "        print(space, f\"root:{root.data}  broken:{broken} \", \"\\n\",space,\"----------->\", \"\\n\")\n",
    "         \n",
    "        countL,_= count(root.left,   space+\"\\t\") \n",
    "         \n",
    "        countR,_= count(root.right,  space+\"\\t\") \n",
    "        \n",
    "\n",
    "        print(space, f\"root:{root.data} countL:{countL}  countR:{countR} broken:{broken}   \", \"\\n\",space,\"<-----------\", \"\\n\")\n",
    "        \n",
    "        if abs( countL-countR )>1:\n",
    "            broken=True\n",
    "        \n",
    "        return max(countL, countR)+1, not broken\n",
    "    "
   ]
  },
  {
   "cell_type": "code",
   "execution_count": 93,
   "metadata": {},
   "outputs": [
    {
     "name": "stdout",
     "output_type": "stream",
     "text": [
      " root:9  broken:False  \n",
      "  -----------> \n",
      "\n",
      "\t root:2  broken:False  \n",
      " \t -----------> \n",
      "\n",
      "\t\t root:3  broken:False  \n",
      " \t\t -----------> \n",
      "\n",
      "\t\t\t root:4  broken:False  \n",
      " \t\t\t -----------> \n",
      "\n",
      "\t\t\t\t root:5  broken:False  \n",
      " \t\t\t\t -----------> \n",
      "\n",
      "\t\t\t\t root:5 countL:0  countR:0 broken:False    \n",
      " \t\t\t\t <----------- \n",
      "\n",
      "\t\t\t root:4 countL:1  countR:0 broken:False    \n",
      " \t\t\t <----------- \n",
      "\n",
      "\t\t root:3 countL:2  countR:0 broken:False    \n",
      " \t\t <----------- \n",
      "\n",
      "\t root:2 countL:3  countR:-1000 broken:True    \n",
      " \t <----------- \n",
      "\n",
      " root:9 countL:4  countR:-1000 broken:True    \n",
      "  <----------- \n",
      "\n"
     ]
    },
    {
     "data": {
      "text/plain": [
       "(5, False)"
      ]
     },
     "execution_count": 93,
     "metadata": {},
     "output_type": "execute_result"
    }
   ],
   "source": [
    "class Node:\n",
    "    def __init__(self,data):\n",
    "        self.data=data\n",
    "        self.left=None\n",
    "        self.right=None\n",
    "\n",
    "\n",
    "a=Node(9)\n",
    "b=Node(2)\n",
    "c=Node(3)\n",
    "d=Node(4)\n",
    "e=Node(5)\n",
    "\n",
    "a.left= b\n",
    "b.left=c\n",
    "c.left=d\n",
    "d.left=e\n",
    "\n",
    "##\n",
    "#     a(9)\n",
    "#    b(2)\n",
    "#   c(3)\n",
    "#  d(4)\n",
    "# e(5)\n",
    "\n",
    "count(a)"
   ]
  },
  {
   "cell_type": "code",
   "execution_count": 97,
   "metadata": {},
   "outputs": [
    {
     "data": {
      "text/plain": [
       "2"
      ]
     },
     "execution_count": 97,
     "metadata": {},
     "output_type": "execute_result"
    }
   ],
   "source": [
    "count(sampleTree)"
   ]
  },
  {
   "cell_type": "code",
   "execution_count": 96,
   "metadata": {},
   "outputs": [
    {
     "data": {
      "text/plain": [
       "True"
      ]
     },
     "execution_count": 96,
     "metadata": {},
     "output_type": "execute_result"
    }
   ],
   "source": [
    "# nice to learn: how to break recrussion\n",
    "def count(root):\n",
    "    \n",
    "    if root== None: \n",
    "        return -1\n",
    "    \n",
    "    countL= count(root.left)+1\n",
    "    if countL==-1000:\n",
    "        return -1000\n",
    "    \n",
    "    \n",
    "    countR= count(root.right)+1\n",
    "    if countR==-1000:\n",
    "        return -1000\n",
    "    \n",
    "    \n",
    "    if abs(countL-countR)>1:\n",
    "        return -1000\n",
    "    else:\n",
    "        return max(countL,countR)\n",
    "    \n",
    "def isbalanced(root):\n",
    "    return count(root) != -1000\n",
    "\n",
    "\n",
    "isbalanced(sampleTree) "
   ]
  },
  {
   "cell_type": "markdown",
   "metadata": {},
   "source": [
    "# Q5 Check if a binary tree is a binary search tree\n",
    "\n"
   ]
  },
  {
   "cell_type": "code",
   "execution_count": 148,
   "metadata": {},
   "outputs": [],
   "source": [
    "def isBinarySearch(node, min_=None,max_=None):\n",
    "\n",
    "    if not node:\n",
    "        return True\n",
    "    \n",
    "    \n",
    "    if (min_ and root.data<= min_)  or (max_ and root.data> max_):\n",
    "        return False\n",
    "    \n",
    "    \n",
    "    return   isBinarySearch(node.left, min_, node.data) and isBinarySearch(node.right, node.data, max_)\n",
    "    \n"
   ]
  },
  {
   "cell_type": "code",
   "execution_count": 134,
   "metadata": {},
   "outputs": [
    {
     "data": {
      "text/plain": [
       "False"
      ]
     },
     "execution_count": 134,
     "metadata": {},
     "output_type": "execute_result"
    }
   ],
   "source": [
    "# a=Node(10)\n",
    "# b=Node(9)\n",
    "# c=Node(14)\n",
    "# d=Node(12)\n",
    "# e=Node(8) \n",
    "# f=Node(3)\n",
    "# g=Node(6)\n",
    "\n",
    "a=Node(13)\n",
    "b=Node(9)\n",
    "c=Node(14)\n",
    "d=Node(12)\n",
    "e=Node(7) \n",
    "f=Node(3)\n",
    "g=Node(8)\n",
    "\n",
    "a.left= b\n",
    "a.right=c\n",
    "b.left=e\n",
    "b.right=d\n",
    "e.left= f\n",
    "e.right=g\n",
    "#        10\n",
    "#     9    14\n",
    "#  7   12\n",
    "# 3  8\n",
    "isBinarySearch(a)"
   ]
  },
  {
   "cell_type": "code",
   "execution_count": 114,
   "metadata": {},
   "outputs": [
    {
     "data": {
      "text/plain": [
       "True"
      ]
     },
     "execution_count": 114,
     "metadata": {},
     "output_type": "execute_result"
    }
   ],
   "source": [
    "a=Node(5)\n",
    "b=Node(4)\n",
    "c=Node(3)\n",
    "d=Node(2)\n",
    "e=Node(1)\n",
    "\n",
    "a.left= b\n",
    "b.left=c\n",
    "c.left=d\n",
    "d.left=e\n",
    "\n",
    "isBinarySearch(a)"
   ]
  },
  {
   "cell_type": "code",
   "execution_count": 115,
   "metadata": {},
   "outputs": [
    {
     "name": "stdout",
     "output_type": "stream",
     "text": [
      "True\n"
     ]
    }
   ],
   "source": [
    "print(isBinarySearch(sampleTree))"
   ]
  },
  {
   "cell_type": "code",
   "execution_count": 305,
   "metadata": {},
   "outputs": [
    {
     "name": "stdout",
     "output_type": "stream",
     "text": [
      "False\n",
      "True\n"
     ]
    }
   ],
   "source": [
    "# OPTION 1: Correct Answer\n",
    "\n",
    "maximum= float(\"-inf\")\n",
    "\n",
    "def isBinarySearch(root):\n",
    "    \n",
    "    global maximum\n",
    "    \n",
    "    if not root:\n",
    "        return True\n",
    "\n",
    "    #first it reaches to the left most node and then does the comparison\n",
    "    if  not isBinarySearch(root.left ):\n",
    "        return False\n",
    "    \n",
    "    #everytime it moves back to the parent, it checks the value and upadtes maximum\n",
    "    if root.data<= maximum:\n",
    "        return False\n",
    "    \n",
    "    maximum=root.data\n",
    "\n",
    "    # then checks the right side\n",
    "    if  not isBinarySearch(root.right ):\n",
    "        return False\n",
    "\n",
    "    return True \n",
    "\n",
    "print(isBinarySearch(a))\n",
    "print(isBinarySearch(sampleTree))"
   ]
  },
  {
   "cell_type": "code",
   "execution_count": 323,
   "metadata": {},
   "outputs": [],
   "source": [
    "# OPTION 2: Correct Answer\n",
    "def isBinarySearch(root, min, max):\n",
    "\n",
    "    \n",
    "    if not root:\n",
    "        return True\n",
    " \n",
    "    \n",
    "    if (min and root.data<= min)  or (max and root.data> max):\n",
    "         return False\n",
    "    \n",
    "    \n",
    "    if (not isBinarySearch(root.left, min, root.data)) or (not isBinarySearch(root.right, root.data, max)):\n",
    "        return False\n",
    " \n",
    " \n",
    " \n",
    "    return True"
   ]
  },
  {
   "cell_type": "code",
   "execution_count": 116,
   "metadata": {},
   "outputs": [],
   "source": [
    "# OPTION 2: Correct Answer\n",
    " \n",
    "\n",
    "def isBinarySearch(root, min, max, space=\"\"):\n",
    "\n",
    "    \n",
    "\n",
    "    if not root:\n",
    "        return True\n",
    "    print(space, f\"root:{root.data} min:{min}, max:{max} \", \"\\n\",space,\"----------->\", \"\\n\")\n",
    "    \n",
    "    if (min and root.data<= min)  or (max and root.data> max):\n",
    "        print(space, f\"root:{root.data} min:{min}, max:{max}   return False\", \"\\n\",space,\"-----------\", \"\\n\")\n",
    "        return False\n",
    "    \n",
    "    \n",
    "    if (not isBinarySearch(root.left, min, root.data, space+\"\\t\")) or (not isBinarySearch(root.right, root.data, max, space+\"\\t\")):\n",
    "        return False\n",
    " \n",
    "    print(space, f\"root:{root.data} min:{min}, max:{max}  \", \"\\n\",space,\"<-----------\", \"\\n\")\n",
    " \n",
    "    return True\n",
    "    \n",
    "# a=Node(5)\n",
    "# b=Node(4)\n",
    "# c=Node(3)\n",
    "# d=Node(2)\n",
    "# e=Node(1)\n",
    "\n",
    "# a.left= b\n",
    "# b.left=c\n",
    "# c.left=d\n",
    "# d.left=e    \n",
    "# print(isBinarySearch(a, None, None))\n",
    "#print(isBinarySearch(sampleTree, None, None))"
   ]
  },
  {
   "cell_type": "code",
   "execution_count": 118,
   "metadata": {},
   "outputs": [
    {
     "name": "stdout",
     "output_type": "stream",
     "text": [
      " root:13 min:None, max:None  \n",
      "  -----------> \n",
      "\n",
      "\t root:9 min:None, max:13  \n",
      " \t -----------> \n",
      "\n",
      "\t\t root:5 min:None, max:9  \n",
      " \t\t -----------> \n",
      "\n",
      "\t\t\t root:12 min:None, max:5  \n",
      " \t\t\t -----------> \n",
      "\n",
      "\t\t\t root:12 min:None, max:5   return False \n",
      " \t\t\t ----------- \n",
      "\n"
     ]
    },
    {
     "data": {
      "text/plain": [
       "False"
      ]
     },
     "execution_count": 118,
     "metadata": {},
     "output_type": "execute_result"
    }
   ],
   "source": [
    "a=Node(13)\n",
    "b=Node(9)\n",
    "c=Node(14)\n",
    "d=Node(12)\n",
    "e=Node(5) \n",
    "f=Node(12)\n",
    "g=Node(6)\n",
    "\n",
    "a.left= b\n",
    "a.right=c\n",
    "b.left=e\n",
    "b.right=d\n",
    "e.left= f\n",
    "e.right=g\n",
    "#        13\n",
    "#     9    14\n",
    "#  5   12\n",
    "# 3  6\n",
    "isBinarySearch(a, None, None)"
   ]
  },
  {
   "cell_type": "code",
   "execution_count": 308,
   "metadata": {},
   "outputs": [
    {
     "name": "stdout",
     "output_type": "stream",
     "text": [
      " root:20 None, None  \n",
      "  -----------> \n",
      "\n",
      "\t root:10 None, 20  \n",
      " \t -----------> \n",
      "\n",
      "\t\t root:25 10, 20  \n",
      " \t\t -----------> \n",
      "\n",
      "\t\t root:25 10, 20  return False \n",
      " \t\t ----------- \n",
      "\n",
      "False\n"
     ]
    }
   ],
   "source": [
    "a=Node(20)\n",
    "b=Node(10)\n",
    "c=Node(30)\n",
    "d=Node(25)\n",
    " \n",
    "\n",
    "a.left= b\n",
    "a.right=c\n",
    "b.right=d\n",
    "   \n",
    "print(isBinarySearch(a, None, None))"
   ]
  },
  {
   "cell_type": "markdown",
   "metadata": {},
   "source": [
    "# Find the next Successor **"
   ]
  },
  {
   "cell_type": "code",
   "execution_count": 1,
   "metadata": {},
   "outputs": [],
   "source": [
    "def inorderSucc(node):\n",
    "    \n",
    "    if not node:\n",
    "        return None\n",
    "    \n",
    "    if n.right:\n",
    "        return getLeftMostChild(node.right)\n",
    "    \n",
    "    # else, go up untill we are on the left instead of right\n",
    "    \n",
    "    x=node.parent\n",
    "    q=node\n",
    "\n",
    "    while x and x.left != q:\n",
    "        q=x\n",
    "        x=q.parent\n",
    "        \n",
    "      \n",
    "    return x\n",
    "\n",
    "\n",
    "def getLeftMostChild(node):\n",
    "    \n",
    "    if not node:\n",
    "        return None\n",
    "    \n",
    "    while node.left:\n",
    "        node=node.left\n",
    "        \n",
    "    return node\n",
    "    "
   ]
  },
  {
   "cell_type": "markdown",
   "metadata": {},
   "source": [
    "# Build Order"
   ]
  },
  {
   "cell_type": "markdown",
   "metadata": {},
   "source": [
    "## Option1"
   ]
  },
  {
   "cell_type": "code",
   "execution_count": 127,
   "metadata": {},
   "outputs": [],
   "source": [
    "def build_order(projects, dependencies):\n",
    "    ans=[]\n",
    "    preq= {p: set() for p in projects}\n",
    "    unbuilt=set(projects)\n",
    "    \n",
    " \n",
    "        \n",
    "    for dependency, project in dependencies:\n",
    "        preq[project].add(dependency)\n",
    "    \n",
    "    while unbuilt:\n",
    "        something_removed=False\n",
    "\n",
    "        for project in list(unbuilt):\n",
    "            dep = preq[project]\n",
    "            if not unbuilt.intersection(dep):\n",
    "                ans.append(project)\n",
    "                unbuilt.remove(project)\n",
    "                something_removed = True\n",
    "        if not something_removed:\n",
    "            raise Exception(\"Not Posible\")\n",
    "\n",
    "    return ans\n",
    "\n"
   ]
  },
  {
   "cell_type": "code",
   "execution_count": 128,
   "metadata": {},
   "outputs": [
    {
     "name": "stdout",
     "output_type": "stream",
     "text": [
      "f b a d e c "
     ]
    }
   ],
   "source": [
    "#drive Code\n",
    "projects = [\"a\", \"b\", \"c\", \"d\", \"e\", \"f\"]\n",
    "dependencies = [\n",
    "    (\"a\", \"d\"),\n",
    "    (\"f\", \"b\"),\n",
    "    (\"b\", \"d\"),\n",
    "    (\"f\", \"a\"),\n",
    "    (\"d\", \"c\"),\n",
    "]\n",
    "order = build_order(projects, dependencies)\n",
    "for item in order:\n",
    "    print(item, end= \" \")"
   ]
  },
  {
   "cell_type": "code",
   "execution_count": 129,
   "metadata": {},
   "outputs": [
    {
     "name": "stdout",
     "output_type": "stream",
     "text": [
      "f b a d e c "
     ]
    }
   ],
   "source": [
    "#drive Code\n",
    "projects = [\"a\", \"b\", \"c\", \"d\", \"e\", \"f\"]\n",
    "dependencies = [\n",
    "    (\"a\", \"d\"),\n",
    "    (\"f\", \"b\"),\n",
    "    (\"b\", \"d\"),\n",
    "    (\"f\", \"a\"),\n",
    "    (\"d\", \"c\"),\n",
    "]\n",
    "order = build_order(projects, dependencies)\n",
    "for item in order:\n",
    "    print(item, end= \" \")"
   ]
  },
  {
   "cell_type": "code",
   "execution_count": 130,
   "metadata": {},
   "outputs": [
    {
     "name": "stdout",
     "output_type": "stream",
     "text": [
      "f b d g c a e "
     ]
    }
   ],
   "source": [
    "#drive Code\n",
    "projects = [\"a\", \"b\", \"c\", \"d\", \"e\", \"f\", \"g\"]\n",
    "dependencies = [\n",
    "    (\"d\", \"g\"),\n",
    "    (\"a\", \"e\"),\n",
    "    (\"b\", \"e\"),\n",
    "    (\"c\", \"a\"),\n",
    "    (\"f\", \"a\"),\n",
    "    (\"b\", \"a\"),\n",
    "    (\"f\", \"c\"),\n",
    "    (\"f\", \"b\"),\n",
    "]\n",
    "order = build_order(projects, dependencies)\n",
    "for item in order:\n",
    "    print(item, end= \" \")\n"
   ]
  },
  {
   "cell_type": "code",
   "execution_count": null,
   "metadata": {},
   "outputs": [],
   "source": [
    "\n",
    "\n",
    "#test impossible build order()\n",
    "projects = [\"a\", \"b\"]\n",
    "dependencies = [(\"a\", \"b\"), (\"b\", \"a\")]\n",
    "order = build_order(projects, dependencies)\n",
    "for item in order:\n",
    "    print(item, end= \" \")"
   ]
  },
  {
   "cell_type": "markdown",
   "metadata": {},
   "source": [
    "## Option 2"
   ]
  },
  {
   "cell_type": "code",
   "execution_count": 140,
   "metadata": {},
   "outputs": [],
   "source": [
    "def build_order(projects, dependencies):\n",
    "    \n",
    "    graph= {p: set() for p in projects}\n",
    "    for dependency, project in dependencies:\n",
    "        graph[project].add(dependency)\n",
    "        \n",
    "    visited = set()\n",
    "    completed = set()\n",
    "    result = [] # Our stack to store the result/output\n",
    "    \n",
    "        \n",
    "    for p in projects:\n",
    "        if p not in visited :\n",
    "              helperFunction(graph, p, visited, result)\n",
    "\n",
    "    return(result)\n",
    "\n",
    "\n",
    "def helperFunction(graph, p, visited, result,partial_done=set()) :\n",
    "    if p in partial_done:\n",
    "            raise Exception(\"Not Posible\")\n",
    "    visited.add(p) \n",
    "    partial_done.add(p)\n",
    "    \n",
    "    # Recur for all the adjacent vertices of currentNode\n",
    "    for con in graph[p] :\n",
    "        if con not in visited:\n",
    "            helperFunction(graph, con, visited, result,partial_done)\n",
    "\n",
    "    result.append(p) # Push current vertex to result\n",
    "    return True"
   ]
  },
  {
   "cell_type": "code",
   "execution_count": 141,
   "metadata": {},
   "outputs": [
    {
     "name": "stdout",
     "output_type": "stream",
     "text": [
      "f a b d c e "
     ]
    }
   ],
   "source": [
    "#drive Code\n",
    "projects = [\"a\", \"b\", \"c\", \"d\", \"e\", \"f\"]\n",
    "dependencies = [\n",
    "    (\"a\", \"d\"),\n",
    "    (\"f\", \"b\"),\n",
    "    (\"b\", \"d\"),\n",
    "    (\"f\", \"a\"),\n",
    "    (\"d\", \"c\"),\n",
    "]\n",
    "order = build_order(projects, dependencies)\n",
    "for item in order:\n",
    "    print(item, end= \" \")\n",
    "    \n",
    "    #f a f b f b f a d c e "
   ]
  },
  {
   "cell_type": "code",
   "execution_count": null,
   "metadata": {},
   "outputs": [],
   "source": [
    "\n",
    "\n",
    "#test impossible build order()\n",
    "projects = [\"a\", \"b\"]\n",
    "dependencies = [(\"a\", \"b\"), (\"b\", \"a\")]\n",
    "order = build_order(projects, dependencies)\n",
    "for item in order:\n",
    "    print(item, end= \" \")"
   ]
  },
  {
   "cell_type": "code",
   "execution_count": null,
   "metadata": {},
   "outputs": [],
   "source": []
  },
  {
   "cell_type": "markdown",
   "metadata": {},
   "source": [
    "# Find the first common ancestor"
   ]
  },
  {
   "cell_type": "code",
   "execution_count": 38,
   "metadata": {},
   "outputs": [],
   "source": [
    "class Node:\n",
    "    def __init__(self, key):\n",
    "        self.key = key\n",
    "        self.parent = None\n",
    "        self.left = None\n",
    "        self.right = None\n",
    "\n",
    "\n",
    "class BinaryTree:\n",
    "    NodeCls = Node\n",
    "\n",
    "    def __init__(self):\n",
    "        self.root = None\n",
    "\n",
    "    def insert(self, key, parent):\n",
    "        new = self.NodeCls(key)\n",
    "        if parent is None:\n",
    "            if self.root is None:\n",
    "                self.root = new\n",
    "                return new\n",
    "            raise Exception(\"a root already exists\")\n",
    "\n",
    "        if not parent.left:\n",
    "            parent.left = new\n",
    "            new.parent = parent\n",
    "        elif not parent.right:\n",
    "            parent.right = new\n",
    "            new.parent = parent\n",
    "        else:\n",
    "            raise Exception(\"a node cannot have more than two children\")\n",
    "        return new\n",
    "\n",
    "\n",
    "def example():\n",
    "    t = BinaryTree()\n",
    "    n1 = t.insert(1, None)\n",
    "    n2 = t.insert(2, n1)\n",
    "    n3 = t.insert(3, n1)\n",
    "    n4 = t.insert(4, n2)\n",
    "    t.insert(5, n2)\n",
    "    t.insert(7, n3)\n",
    "    t.insert(8, n4)\n",
    "\n",
    "    print(t.root.left.left.left.key)\n",
    "\n",
    "\n",
    "if __name__ == \"__main__\":\n",
    "    example()\n",
    "    \n",
    "#credit: https://github.com/careercup/CtCI-6th-Edition-Python/blob/master/chapter_04/binary_tree.py"
   ]
  },
  {
   "cell_type": "markdown",
   "metadata": {},
   "source": [
    "##  With Links to parents\n"
   ]
  },
  {
   "cell_type": "code",
   "execution_count": null,
   "metadata": {},
   "outputs": [],
   "source": [
    "def first_common_ancestor(p, q):\n",
    "    if not p or not q:\n",
    "        return None\n",
    "    depth_p = get_depth(p)\n",
    "    depth_q = get_depth(q)\n",
    "    delta = abs(depth_p - depth_q)\n",
    "    if depth_p < depth_q:\n",
    "        for _ in range(delta):\n",
    "            q = q.parent\n",
    "    elif depth_q < depth_p:\n",
    "        for _ in range(delta):\n",
    "            p = p.parent\n",
    "    ancestor_p = p\n",
    "    ancestor_q = q\n",
    "    while ancestor_p != ancestor_q:\n",
    "        ancestor_p = ancestor_p.parent\n",
    "        ancestor_q = ancestor_q.parent\n",
    "    return ancestor_p\n",
    "\n",
    "\n",
    "def get_depth(node):\n",
    "    depth = 0\n",
    "    while node is not None:\n",
    "        node = node.parent\n",
    "        depth += 1\n",
    "    return depth\n"
   ]
  },
  {
   "cell_type": "code",
   "execution_count": 72,
   "metadata": {},
   "outputs": [],
   "source": [
    "def first_common_ancestor(p, q):\n",
    "    \n",
    "    p_depth=get_depth(p)\n",
    "    q_depth=get_depth(q)\n",
    "\n",
    "    shorter=p if p_depth<q_depth else q\n",
    "    deeper= q if p_depth<q_depth else p\n",
    "\n",
    "    \n",
    "    deeper=move_up(deeper, abs(p_depth-q_depth))\n",
    "    \n",
    "\n",
    "    while shorter != deeper:\n",
    "        shorter=shorter.parent\n",
    "        deeper=deeper.parent\n",
    "\n",
    "    return shorter if shorter else None\n",
    "    \n",
    "    \n",
    "def move_up(node, steps):\n",
    "    \n",
    "    if not node:\n",
    "        return None\n",
    "    \n",
    "    for i in range(steps):\n",
    "        if not node:\n",
    "            raise  Exception (\"depth\")\n",
    "        \n",
    "        node=node.parent\n",
    "\n",
    "    return node\n",
    "\n",
    "\n",
    "def get_depth(node):\n",
    "    \n",
    "    depth=0\n",
    "    while node:\n",
    "        depth+=1\n",
    "        node=node.parent\n",
    "        \n",
    "    return depth"
   ]
  },
  {
   "cell_type": "code",
   "execution_count": 73,
   "metadata": {},
   "outputs": [
    {
     "name": "stdout",
     "output_type": "stream",
     "text": [
      "1\n"
     ]
    }
   ],
   "source": [
    "if __name__ == \"__main__\":\n",
    "    t = BinaryTree()\n",
    "    n1 = t.insert(1, None)\n",
    "    n2 = t.insert(2, n1)\n",
    "    n3 = t.insert(3, n1)\n",
    "    n4 = t.insert(4, n2)\n",
    "    n5 = t.insert(5, n2)\n",
    "    n7 = t.insert(7, n3)\n",
    "    n8 = t.insert(8, n4)\n",
    "\n",
    "    ancestor = first_common_ancestor(n3, n4)\n",
    "    print(ancestor.key)"
   ]
  },
  {
   "cell_type": "markdown",
   "metadata": {},
   "source": [
    "##  Without Links to parents - Not Optimised\n"
   ]
  },
  {
   "cell_type": "code",
   "execution_count": 70,
   "metadata": {},
   "outputs": [],
   "source": [
    "def first_common_ancestor(root, p, q):\n",
    "    \n",
    "    # if one of the nodes are not in the tree\n",
    "    if not covers(root, p) or not covers(root, q):\n",
    "        return None\n",
    "\n",
    "    return helper(root, p,q)\n",
    "        \n",
    "    \n",
    "def helper(root, p, q):\n",
    "    \n",
    "    if not root or root==p or root==q:\n",
    "        return root\n",
    "    \n",
    "    pIsOnLeft=covers(root.left, p)\n",
    "    qIsOnLeft=covers(root.left, q)\n",
    "    \n",
    "    if pIsOnLeft != qIsOnLeft:\n",
    "        return root\n",
    "    \n",
    "    root=root.left if pIsOnLeft else root.right\n",
    "    helper(root, p, q)\n",
    "    \n",
    "    \n",
    "    \n",
    "def covers(root, node):\n",
    "    \n",
    "    if not root or not node:\n",
    "        return False\n",
    "    \n",
    "    if root==node:\n",
    "            return True\n",
    "        \n",
    "    return  covers(root.left, node) or covers(root.right, node)\n",
    "        \n",
    "    "
   ]
  },
  {
   "cell_type": "code",
   "execution_count": 71,
   "metadata": {},
   "outputs": [
    {
     "name": "stdout",
     "output_type": "stream",
     "text": [
      "1\n"
     ]
    }
   ],
   "source": [
    "if __name__ == \"__main__\":\n",
    "    t = BinaryTree()\n",
    "    n1 = t.insert(1, None)\n",
    "    n2 = t.insert(2, n1)\n",
    "    n3 = t.insert(3, n1)\n",
    "    n4 = t.insert(4, n2)\n",
    "    n5 = t.insert(5, n2)\n",
    "    n7 = t.insert(7, n3)\n",
    "    n8 = t.insert(8, n4)\n",
    "\n",
    "    ancestor = first_common_ancestor(n1, n3, n4)\n",
    "    print(ancestor.key)"
   ]
  },
  {
   "cell_type": "markdown",
   "metadata": {},
   "source": [
    "##  Without Links to parents -  Optimised\n"
   ]
  },
  {
   "cell_type": "code",
   "execution_count": null,
   "metadata": {},
   "outputs": [],
   "source": []
  },
  {
   "cell_type": "markdown",
   "metadata": {},
   "source": [
    "# MISC"
   ]
  },
  {
   "cell_type": "code",
   "execution_count": 146,
   "metadata": {},
   "outputs": [
    {
     "name": "stdout",
     "output_type": "stream",
     "text": [
      "\n",
      " ***** NEW CALL **** :  None\n",
      "counter:  1\n",
      "last:  None\n",
      "---> root1:  51\n",
      "---> last1:  None\n",
      "\n",
      " ***** NEW CALL **** :  search in the left branch\n",
      "counter:  2\n",
      "last:  None\n",
      "---> root1:  13\n",
      "---> last1:  None\n",
      "\n",
      " ***** NEW CALL **** :  search in the left branch\n",
      "counter:  3\n",
      "last:  None\n",
      "---> root1:  12\n",
      "---> last1:  None\n",
      "\n",
      " ***** NEW CALL **** :  search in the left branch\n",
      "counter:  4\n",
      "last:  None\n",
      "last: None >?< root.data: 12\n",
      "\n",
      " ***** LAST UPDATED to: 12\n",
      "<--- root2:  12\n",
      "<--- last2:  12\n",
      "\n",
      " ***** NEW CALL **** :  search in the right branch\n",
      "counter:  5\n",
      "last:  12\n",
      "last: 12 >?< root.data: 13\n",
      "\n",
      " ***** LAST UPDATED to: 13\n",
      "<--- root2:  13\n",
      "<--- last2:  13\n",
      "\n",
      " ***** NEW CALL **** :  search in the right branch\n",
      "counter:  6\n",
      "last:  13\n",
      "---> root1:  32\n",
      "---> last1:  13\n",
      "\n",
      " ***** NEW CALL **** :  search in the left branch\n",
      "counter:  7\n",
      "last:  13\n",
      "last: 13 >?< root.data: 32\n",
      "\n",
      " ***** LAST UPDATED to: 32\n",
      "<--- root2:  32\n",
      "<--- last2:  32\n",
      "\n",
      " ***** NEW CALL **** :  search in the right branch\n",
      "counter:  8\n",
      "last:  32\n",
      "---> root1:  35\n",
      "---> last1:  32\n",
      "\n",
      " ***** NEW CALL **** :  search in the left branch\n",
      "counter:  9\n",
      "last:  32\n",
      "last: 32 >?< root.data: 35\n",
      "\n",
      " ***** LAST UPDATED to: 35\n",
      "<--- root2:  35\n",
      "<--- last2:  35\n",
      "\n",
      " ***** NEW CALL **** :  search in the right branch\n",
      "counter:  10\n",
      "last:  35\n",
      "last: 35 >?< root.data: 51\n",
      "\n",
      " ***** LAST UPDATED to: 51\n",
      "<--- root2:  51\n",
      "<--- last2:  51\n",
      "\n",
      " ***** NEW CALL **** :  search in the right branch\n",
      "counter:  11\n",
      "last:  51\n",
      "---> root1:  67\n",
      "---> last1:  51\n",
      "\n",
      " ***** NEW CALL **** :  search in the left branch\n",
      "counter:  12\n",
      "last:  51\n",
      "---> root1:  56\n",
      "---> last1:  51\n",
      "\n",
      " ***** NEW CALL **** :  search in the left branch\n",
      "counter:  13\n",
      "last:  51\n",
      "last: 51 >?< root.data: 56\n",
      "\n",
      " ***** LAST UPDATED to: 56\n",
      "<--- root2:  56\n",
      "<--- last2:  56\n",
      "\n",
      " ***** NEW CALL **** :  search in the right branch\n",
      "counter:  14\n",
      "last:  56\n",
      "---> root1:  62\n",
      "---> last1:  56\n",
      "\n",
      " ***** NEW CALL **** :  search in the left branch\n",
      "counter:  15\n",
      "last:  56\n",
      "last: 56 >?< root.data: 62\n",
      "\n",
      " ***** LAST UPDATED to: 62\n",
      "<--- root2:  62\n",
      "<--- last2:  62\n",
      "\n",
      " ***** NEW CALL **** :  search in the right branch\n",
      "counter:  16\n",
      "last:  62\n",
      "last: 62 >?< root.data: 67\n",
      "\n",
      " ***** LAST UPDATED to: 67\n",
      "<--- root2:  67\n",
      "<--- last2:  67\n",
      "\n",
      " ***** NEW CALL **** :  search in the right branch\n",
      "counter:  17\n",
      "last:  67\n",
      "---> root1:  71\n",
      "---> last1:  67\n",
      "\n",
      " ***** NEW CALL **** :  search in the left branch\n",
      "counter:  18\n",
      "last:  67\n",
      "last: 67 >?< root.data: 71\n",
      "\n",
      " ***** LAST UPDATED to: 71\n",
      "<--- root2:  71\n",
      "<--- last2:  71\n",
      "\n",
      " ***** NEW CALL **** :  search in the right branch\n",
      "counter:  19\n",
      "last:  71\n",
      "---> root1:  78\n",
      "---> last1:  71\n",
      "\n",
      " ***** NEW CALL **** :  search in the left branch\n",
      "counter:  20\n",
      "last:  71\n",
      "last: 71 >?< root.data: 78\n",
      "\n",
      " ***** LAST UPDATED to: 78\n",
      "<--- root2:  78\n",
      "<--- last2:  78\n",
      "\n",
      " ***** NEW CALL **** :  search in the right branch\n",
      "counter:  21\n",
      "last:  78\n",
      "True\n"
     ]
    }
   ],
   "source": [
    "# Question 4 Check to learn recurssion\n",
    "last=None\n",
    "counter=0\n",
    "def isBinarySearch(root,   txt=None):\n",
    "    print( \"\\n ***** NEW CALL **** : \", txt)\n",
    "    global  counter,last\n",
    "    counter+=1\n",
    "    print(\"counter: \", counter)\n",
    "    print(\"last: \", last)\n",
    "    \n",
    "    if not root:\n",
    "        return True\n",
    "    \n",
    "    print(\"---> root1: \", root.data)\n",
    "    print(\"---> last1: \", last)\n",
    "    \n",
    "    txt=\"search in the left branch\" \n",
    "    if  not isBinarySearch(root.left, txt ):\n",
    "        print(\"root.left: \", root.left.data)\n",
    "        return False\n",
    "    \n",
    "    print(\"last:\", last, \">?< root.data:\", root.data)\n",
    "    if last and root.data<= last:\n",
    "        print(\"\\n ***** conflict Found****\", root.data,\"<\" ,last)\n",
    "        return False\n",
    "    \n",
    "    last=root.data\n",
    "    print(\"\\n ***** LAST UPDATED to:\", last)\n",
    "    \n",
    "    print(\"<--- root2: \", root.data)\n",
    "    print(\"<--- last2: \", last)\n",
    "    \n",
    "    txt=\"search in the right branch\" \n",
    "    if  not isBinarySearch(root.right,   txt ):\n",
    "        print(\"root.right: \", root.right.data)\n",
    "        return False\n",
    "\n",
    "    return True \n",
    "\n",
    "\n",
    "\n",
    "a=Node(5)\n",
    "b=Node(0)\n",
    "c=Node(3)\n",
    "d=Node(2)\n",
    "e=Node(1)\n",
    "\n",
    "a.left= b\n",
    "b.left=c\n",
    "c.left=d\n",
    "d.left=e\n",
    "\n",
    "#print(isBinarySearch(a))\n",
    "print(isBinarySearch(sampleTree))"
   ]
  }
 ],
 "metadata": {
  "kernelspec": {
   "display_name": "Python 3",
   "language": "python",
   "name": "python3"
  },
  "language_info": {
   "codemirror_mode": {
    "name": "ipython",
    "version": 3
   },
   "file_extension": ".py",
   "mimetype": "text/x-python",
   "name": "python",
   "nbconvert_exporter": "python",
   "pygments_lexer": "ipython3",
   "version": "3.8.2"
  },
  "toc": {
   "base_numbering": 1,
   "nav_menu": {},
   "number_sections": true,
   "sideBar": true,
   "skip_h1_title": false,
   "title_cell": "Table of Contents",
   "title_sidebar": "Contents",
   "toc_cell": false,
   "toc_position": {},
   "toc_section_display": true,
   "toc_window_display": false
  },
  "varInspector": {
   "cols": {
    "lenName": 16,
    "lenType": 16,
    "lenVar": 40
   },
   "kernels_config": {
    "python": {
     "delete_cmd_postfix": "",
     "delete_cmd_prefix": "del ",
     "library": "var_list.py",
     "varRefreshCmd": "print(var_dic_list())"
    },
    "r": {
     "delete_cmd_postfix": ") ",
     "delete_cmd_prefix": "rm(",
     "library": "var_list.r",
     "varRefreshCmd": "cat(var_dic_list()) "
    }
   },
   "types_to_exclude": [
    "module",
    "function",
    "builtin_function_or_method",
    "instance",
    "_Feature"
   ],
   "window_display": false
  }
 },
 "nbformat": 4,
 "nbformat_minor": 4
}
