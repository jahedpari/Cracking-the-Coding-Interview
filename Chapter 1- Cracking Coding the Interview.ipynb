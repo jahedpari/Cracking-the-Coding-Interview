{
 "cells": [
  {
   "cell_type": "markdown",
   "metadata": {},
   "source": [
    "# Q1 "
   ]
  },
  {
   "cell_type": "code",
   "execution_count": null,
   "metadata": {},
   "outputs": [],
   "source": [
    "\n",
    "def isUnique(string):\n",
    "    \n",
    "    ls=[None]*26\n",
    "    \n",
    "    for ch in string:\n",
    "        index=ord(ch)-ord('a')\n",
    "        if ls[index]:\n",
    "            return False\n",
    "        ls[index]=1\n",
    "    return True\n",
    "print(isUnique(\"abcdfbe\"))"
   ]
  },
  {
   "cell_type": "code",
   "execution_count": 1,
   "metadata": {},
   "outputs": [
    {
     "name": "stdout",
     "output_type": "stream",
     "text": [
      "False\n"
     ]
    }
   ],
   "source": [
    "#Q1\n",
    "\n",
    "def isUnique(string):\n",
    "    \n",
    "    if len(string)>128:\n",
    "       return False\n",
    "    \n",
    "    char_set=[False for _ in range(128)]  #assuming ASCII\n",
    "    \n",
    "    for char in string:\n",
    "        index= ord(char)\n",
    "        \n",
    "        if char_set[index]:\n",
    "            return False\n",
    "        \n",
    "        char_set[index]=True\n",
    "        \n",
    "    return True\n",
    "\n",
    "print(isUnique(\"stringn\"))"
   ]
  },
  {
   "cell_type": "code",
   "execution_count": 17,
   "metadata": {},
   "outputs": [
    {
     "data": {
      "text/plain": [
       "True"
      ]
     },
     "execution_count": 17,
     "metadata": {},
     "output_type": "execute_result"
    }
   ],
   "source": [
    "#Q1 my solution\n",
    "\n",
    "def q1_a(txt):\n",
    "    s=set()\n",
    "\n",
    "    size=0\n",
    "\n",
    "    for char in txt:\n",
    "        size+=1\n",
    "        s.add(char)\n",
    "        if(len(s)<size):\n",
    "            return False\n",
    "        \n",
    "\n",
    "    return True \n",
    "\n",
    "txt=\"abcdf\"\n",
    "q1_a(txt)\n",
    "\n"
   ]
  },
  {
   "cell_type": "code",
   "execution_count": 6,
   "metadata": {},
   "outputs": [
    {
     "data": {
      "text/plain": [
       "True"
      ]
     },
     "execution_count": 6,
     "metadata": {},
     "output_type": "execute_result"
    }
   ],
   "source": [
    "#Q1 my solution\n",
    "\n",
    "def q1_b(txt):\n",
    "    txt=sorted(txt)\n",
    "    for i, char in enumerate(txt[:-1]):\n",
    "        if char == txt[i+1]:\n",
    "            return False\n",
    "        \n",
    "    return True \n",
    "\n",
    "txt=\"hebjdg\"\n",
    "q1_b(txt)"
   ]
  },
  {
   "cell_type": "code",
   "execution_count": 23,
   "metadata": {},
   "outputs": [
    {
     "data": {
      "text/plain": [
       "True"
      ]
     },
     "execution_count": 23,
     "metadata": {},
     "output_type": "execute_result"
    }
   ],
   "source": [
    "#Q1 my solution\n",
    "\n",
    "def q1_c(txt):\n",
    "    for  char1 in enumerate(txt):\n",
    "        for  char2 in enumerate(txt[1:]):\n",
    "            if char1 != char2:\n",
    "                return False\n",
    "        \n",
    "    return True \n",
    "\n",
    "txt=\"hebjdg\"\n",
    "q1(txt)"
   ]
  },
  {
   "cell_type": "markdown",
   "metadata": {},
   "source": [
    "# Q2"
   ]
  },
  {
   "cell_type": "code",
   "execution_count": 3,
   "metadata": {},
   "outputs": [
    {
     "name": "stdout",
     "output_type": "stream",
     "text": [
      "compare 'ab' with 'ba'\n",
      "True\n",
      "compare 'aB' with 'bca'\n",
      "False\n"
     ]
    }
   ],
   "source": [
    "#Q2 Permutation :same characters\n",
    "def isPermu(a, b, caseSensetive=True, spaceSignificant=True):\n",
    "\n",
    "    #if space not significant\n",
    "    if spaceSignificant==False:\n",
    "        a=\"\".join(a.split())\n",
    "        b=\"\".join(b.split())\n",
    "        \n",
    "    if caseSensetive==False:\n",
    "        a=a.lower()\n",
    "        b=b.lower()\n",
    "        \n",
    "        \n",
    "    print(\"compare '{}' with '{}'\".format(a,b))\n",
    "        \n",
    "    if len(a)!=len(b):\n",
    "        return False\n",
    "    \n",
    "\n",
    "    if sorted(a)!=sorted(b):\n",
    "        return False\n",
    "    \n",
    "    return True\n",
    "\n",
    "print(isPermu(\"a b \", \"ba \", True, False))\n",
    "print(isPermu(\"aB \", \"bca \", True, False))"
   ]
  },
  {
   "cell_type": "code",
   "execution_count": 4,
   "metadata": {},
   "outputs": [
    {
     "data": {
      "text/plain": [
       "Counter({'s': 1, 'a': 2, 'l': 2, 'm': 3, ' ': 1})"
      ]
     },
     "execution_count": 4,
     "metadata": {},
     "output_type": "execute_result"
    }
   ],
   "source": [
    "from collections import Counter\n",
    "str = \"salammm l\"\n",
    "counter = Counter(str)\n",
    "\n",
    "    \n",
    "counter"
   ]
  },
  {
   "cell_type": "code",
   "execution_count": 5,
   "metadata": {},
   "outputs": [
    {
     "data": {
      "text/plain": [
       "{'s': 1, 'a': 2, 'l': 2, 'm': 3, ' ': 1}"
      ]
     },
     "execution_count": 5,
     "metadata": {},
     "output_type": "execute_result"
    }
   ],
   "source": [
    "dic= {}\n",
    "for c in \"salammm l\":\n",
    "    dic[c]=dic.get(c,0)+1\n",
    "    \n",
    "dic"
   ]
  },
  {
   "cell_type": "code",
   "execution_count": 37,
   "metadata": {},
   "outputs": [
    {
     "data": {
      "text/plain": [
       "False"
      ]
     },
     "execution_count": 37,
     "metadata": {},
     "output_type": "execute_result"
    }
   ],
   "source": [
    "# Q2 my solution \n",
    "#4.05 \n",
    "\n",
    "#assume space is significant and  case sensetive\n",
    "def q2(txt1, txt2):\n",
    "    \n",
    "    if txt1==txt2:\n",
    "        return True\n",
    "        \n",
    "    if len(txt1) != len(txt2):\n",
    "        return False\n",
    "    \n",
    "    #Option 1: o(n log n ), wher n is max of len(txt1) and len(txt2)\n",
    "#     if sorted(txt1)!=sorted(txt2)\n",
    "#         return False\n",
    "\n",
    "\n",
    "    #Option 2:\n",
    "#     #if not caring about repetitive charachters\n",
    "#     set(txt1)!= set(txt2)\n",
    "#         return False\n",
    "\n",
    "\n",
    "    #option 3:\n",
    "    s1=[0 for char in range(128)]\n",
    "    \n",
    "    for  char in  txt1 :\n",
    "        s1[ord(char)] +=1\n",
    "        \n",
    "    for  char in  txt2 :\n",
    "        s1[ord(char)] -=1\n",
    "        \n",
    "        if s1[ord(char)]<0:\n",
    "            return False\n",
    "    \n",
    "    return True\n",
    "        \n",
    "q2(\"salam\", \"salmaa\")"
   ]
  },
  {
   "cell_type": "markdown",
   "metadata": {},
   "source": [
    "# Q3"
   ]
  },
  {
   "cell_type": "code",
   "execution_count": 22,
   "metadata": {},
   "outputs": [
    {
     "name": "stdout",
     "output_type": "stream",
     "text": [
      "hi hope you are well!\n"
     ]
    },
    {
     "data": {
      "text/plain": [
       "'hi%20hope%20you%20are%20well!-----'"
      ]
     },
     "execution_count": 22,
     "metadata": {},
     "output_type": "execute_result"
    }
   ],
   "source": [
    "\n",
    "def q3(txt, space, alt):\n",
    "    txt=list(text)\n",
    "    extra=len(alt)-len(space)\n",
    "    count= txt.count(space)\n",
    "    trueSize=len(txt)\n",
    "    newSize= trueSize+count*extra\n",
    "\n",
    "\n",
    "    # add extra space\n",
    "    for i in range(count*2+5):\n",
    "        txt+=\"-\"\n",
    "\n",
    "\n",
    "    index_R=newSize-1\n",
    "\n",
    "    for char in txt[trueSize-1::-1]:\n",
    "        if char != space: \n",
    "            txt[index_R]=char\n",
    "            index_R-=1\n",
    "\n",
    "\n",
    "        else:\n",
    "#             txt[index_R]='0'\n",
    "#             index_R-=1\n",
    "#             txt[index_R]='2'\n",
    "#             index_R-=1\n",
    "#             txt[index_R]='%'\n",
    "#             index_R-=1\n",
    "\n",
    "            txt[index_R-extra:index_R+1]= alt\n",
    "            index_R-=len(alt)\n",
    "\n",
    "    return(\"\".join(txt))\n",
    "    \n",
    "    \n",
    "text=\"hi hope you are well!\"\n",
    "\n",
    "print(text)\n",
    "space=' '\n",
    "alt='%20'\n",
    "\n",
    "q3(text,space,alt)"
   ]
  },
  {
   "cell_type": "markdown",
   "metadata": {},
   "source": [
    "# Q4"
   ]
  },
  {
   "cell_type": "code",
   "execution_count": 191,
   "metadata": {},
   "outputs": [
    {
     "name": "stdout",
     "output_type": "stream",
     "text": [
      "defaultdict(<class 'int'>, {'a': 4, 'b': 1, 'k': 1})\n"
     ]
    },
    {
     "data": {
      "text/plain": [
       "False"
      ]
     },
     "execution_count": 191,
     "metadata": {},
     "output_type": "execute_result"
    }
   ],
   "source": [
    "from collections import Counter\n",
    "from collections import defaultdict\n",
    "\n",
    "def Q4(str):\n",
    "    str=str.lower()\n",
    "    #counts=Counter(str)\n",
    "    counts, letterCounts =counter(str)\n",
    "    print(counts)\n",
    "\n",
    "    # check len of counts as some of the non letter characters are deleted\n",
    "    if letterCounts%2==0:\n",
    "        for value in counts.values():\n",
    "            if value%2 !=0:\n",
    "                return False\n",
    "\n",
    "    else:\n",
    "        count_odds=0\n",
    "        for value in counts.values():\n",
    "            if value%2 !=0:\n",
    "                count_odds+=1\n",
    "                \n",
    "        if count_odds>1:\n",
    "            return False\n",
    "\n",
    "\n",
    "    return True\n",
    "\n",
    "def counter(arr):\n",
    "    letterCounts=0\n",
    "    dc = defaultdict(int)\n",
    "    for char in arr:\n",
    "        if isLetter(char):\n",
    "            dc[char]+=1\n",
    "            letterCounts+=1\n",
    "    return dc,letterCounts\n",
    "\n",
    "        \n",
    "def isLetter(char):\n",
    "    return ord('a') <=ord(char)<=ord('z')\n",
    "    \n",
    "    \n",
    "str=\"aba8aa5k\"\n",
    "Q4(str)"
   ]
  },
  {
   "cell_type": "code",
   "execution_count": 179,
   "metadata": {},
   "outputs": [
    {
     "name": "stdout",
     "output_type": "stream",
     "text": [
      "122\n",
      "97\n",
      "90\n",
      "65\n"
     ]
    }
   ],
   "source": [
    "print(ord('z') )\n",
    "print(ord('a'))\n",
    "\n",
    "print(ord('Z') )\n",
    "print(ord('A'))"
   ]
  },
  {
   "cell_type": "markdown",
   "metadata": {},
   "source": [
    "# Q5"
   ]
  },
  {
   "cell_type": "code",
   "execution_count": null,
   "metadata": {},
   "outputs": [],
   "source": [
    "# Correct Answer\n",
    "def Q5(s1, s2):\n",
    "    if len(s1) == len(s2):\n",
    "        return one_edit_replace(s1, s2)\n",
    "    if len(s1) + 1 == len(s2):\n",
    "        return one_edit_insert(s1, s2)\n",
    "    if len(s1) - 1 == len(s2):\n",
    "        return one_edit_insert(s2, s1)   \n",
    "    return False\n",
    "\n",
    "\n",
    "def one_edit_replace(s1, s2):\n",
    "    edited = False\n",
    "    for c1, c2 in zip(s1, s2):\n",
    "        if c1 != c2:\n",
    "            if edited:\n",
    "                return False\n",
    "            edited = True\n",
    "    return True\n",
    "\n",
    "\n",
    "def one_edit_insert(s1, s2):\n",
    "    edited = False\n",
    "    i, j = 0, 0\n",
    "    while i < len(s1) and j < len(s2):\n",
    "        if s1[i] != s2[j]:\n",
    "            if edited:\n",
    "                return False\n",
    "            edited = True\n",
    "            j += 1\n",
    "        else:\n",
    "            i += 1\n",
    "            j += 1\n",
    "    return True\n"
   ]
  },
  {
   "cell_type": "code",
   "execution_count": 148,
   "metadata": {},
   "outputs": [],
   "source": [
    "#Q5 Less Efficient\n",
    "from collections import Counter\n",
    "\n",
    "def oneEdit(a,b):\n",
    "    \n",
    "    if abs(len(a)- len(b))> 1:\n",
    "        return False\n",
    "    \n",
    "    code= [0 for _ in range(128)]\n",
    "    \n",
    "    for char in a:\n",
    "        code[ord(char)]+=1\n",
    "        \n",
    "    for char in b:\n",
    "        code[ord(char)] -=1\n",
    "  \n",
    "    freq=Counter(code)\n",
    "    print(freq)\n",
    "    \n",
    "    #remove key=0\n",
    "    del freq[0]\n",
    "    print(freq)\n",
    "    \n",
    "    if len(freq)>2 | len(freq)<1 :\n",
    "        return False\n",
    "    \n",
    "    if len(freq)==2 and freq.get(1)==1 and freq.get(-1)==1:\n",
    "      return True\n",
    "    elif len(freq)==2:\n",
    "      return False\n",
    "    \n",
    "    elif freq.get(1)==1:\n",
    "      return True\n",
    "    \n",
    "    elif freq.get(-1)==1:\n",
    "      return True\n",
    "    \n",
    "    return False"
   ]
  },
  {
   "cell_type": "code",
   "execution_count": 149,
   "metadata": {},
   "outputs": [
    {
     "name": "stdout",
     "output_type": "stream",
     "text": [
      "False\n",
      "Counter({0: 125, 1: 2, -1: 1})\n",
      "Counter({1: 2, -1: 1})\n",
      "False\n"
     ]
    }
   ],
   "source": [
    "print(oneEdit('palks', 'pal'))\n",
    "print(oneEdit(\"pale\", \"bae\"))"
   ]
  },
  {
   "cell_type": "code",
   "execution_count": 1,
   "metadata": {},
   "outputs": [],
   "source": [
    "# import unittest\n",
    "# class Test(unittest.TestCase):\n",
    "#     '''Test Cases'''\n",
    "#     data = [\n",
    "#         ('pale', 'ple', True),\n",
    "#         ('pales', 'pale', True),\n",
    "#         ('pale', 'bale', True),\n",
    "#         ('paleabc', 'pleabc', True),\n",
    "#         ('pale', 'ble', False),\n",
    "#         ('a', 'b', True),\n",
    "#         ('', 'd', True),\n",
    "#         ('d', 'de', True),\n",
    "#         ('pale', 'pale', True),\n",
    "#         ('pale', 'ple', True),\n",
    "#         ('ple', 'pale', True),\n",
    "#         ('pale', 'bale', True),\n",
    "#         ('pale', 'bake', False),\n",
    "#         ('pale', 'pse', False),\n",
    "#         ('ples', 'pales', True),\n",
    "#         ('pale', 'pas', False),\n",
    "#         ('pas', 'pale', False),\n",
    "#         ('pale', 'pkle', True),\n",
    "#         ('pkle', 'pable', False),\n",
    "#         ('pal', 'palks', False),\n",
    "#         ('palks', 'pal', False)\n",
    "#     ]\n",
    "\n",
    "#     def test_one_away(self):\n",
    "#         for [test_s1, test_s2, expected] in self.data:\n",
    "#             actual = oneEdit(test_s1, test_s2)\n",
    "#             self.assertEqual(actual, expected)\n",
    "\n",
    "# if __name__ == \"__main__\":\n",
    "#     unittest.main()"
   ]
  },
  {
   "cell_type": "markdown",
   "metadata": {},
   "source": [
    "# Q6"
   ]
  },
  {
   "cell_type": "code",
   "execution_count": 26,
   "metadata": {},
   "outputs": [
    {
     "name": "stdout",
     "output_type": "stream",
     "text": [
      "['a3', 'b4', 'c3', 'A2', 'a2']\n",
      "['a26', 'b1', 'a1', 'b3']\n"
     ]
    },
    {
     "data": {
      "text/plain": [
       "'a26b1a1b3'"
      ]
     },
     "execution_count": 26,
     "metadata": {},
     "output_type": "execute_result"
    }
   ],
   "source": [
    "\n",
    "def Q6(str):\n",
    "    \n",
    "    if not str:\n",
    "      return \"Empty\"\n",
    "\n",
    "    compressed=compress(str)\n",
    "     \n",
    "    if len(compressed) > len(str):\n",
    "        return str\n",
    "    \n",
    " \n",
    "    ans=''.join([f'{elem}' for elem in compressed])      \n",
    "    \n",
    "    \n",
    "    return ans\n",
    "\n",
    "\n",
    "def compress(str):\n",
    "    #to keep chars and their frequencies to avoid string concatination\n",
    "    chars=[]\n",
    "  \n",
    "    fr=1\n",
    "    last=str[0]\n",
    "    \n",
    "    for char in str[1:]:\n",
    "        if isLetter(char):\n",
    "            if last!=char:\n",
    "                \n",
    "                \n",
    "                #append previous char and its frequency\n",
    "                chars.append(last+ f'{fr}' )\n",
    "                \n",
    "                last=char\n",
    "                fr=1\n",
    "            else:\n",
    "                fr+=1\n",
    "                \n",
    "    #append last item\n",
    "    chars.append(last+ f'{fr}')\n",
    "    return chars  \n",
    "        \n",
    "        \n",
    "def isLetter(char):\n",
    "    return ord('a')<=ord(char)<=ord('z') or  ord('A')<=ord(char)<=ord('Z')\n",
    "    \n",
    "Q6(\"aaabbbb c?ccAAaa  \")\n",
    "Q6(\"aaaaaaaaaaaaaaaaaaaaaaaaaababbb\")\n"
   ]
  },
  {
   "cell_type": "code",
   "execution_count": 262,
   "metadata": {},
   "outputs": [
    {
     "name": "stdout",
     "output_type": "stream",
     "text": [
      "['5', '4']\n",
      "['a', '5', '4']\n"
     ]
    }
   ],
   "source": [
    "c= ['a']\n",
    "print((list(f'{54}')))\n",
    "print(c+(list(f'{54}')) )"
   ]
  },
  {
   "cell_type": "markdown",
   "metadata": {},
   "source": [
    "# Q7"
   ]
  },
  {
   "cell_type": "code",
   "execution_count": 28,
   "metadata": {},
   "outputs": [
    {
     "name": "stdout",
     "output_type": "stream",
     "text": [
      "[\n",
      "[10, 11, 12, 13]\n",
      "[20, 21, 22, 23]\n",
      "[30, 31, 32, 33]\n",
      "[40, 41, 42, 43]\n",
      "]\n"
     ]
    }
   ],
   "source": [
    "# Prepare Input \n",
    "\n",
    "def create2DArray(nRows=4):\n",
    "    step=10\n",
    "    arr=[]\n",
    "    \n",
    "    for i in range(nRows):\n",
    "        a=[j for j in range(step,step+nRows)]\n",
    "        step+=10\n",
    "        arr.append(a)\n",
    "    return arr\n",
    " \n",
    "    \n",
    "def p(arr):\n",
    "    \n",
    "    print('[')\n",
    "    for i in range(len(arr)):\n",
    "        print(arr[i])\n",
    "    print(']')  \n",
    "\n",
    "arr=create2DArray(nRows=4)\n",
    "p(arr)"
   ]
  },
  {
   "cell_type": "code",
   "execution_count": 78,
   "metadata": {},
   "outputs": [
    {
     "name": "stdout",
     "output_type": "stream",
     "text": [
      "[\n",
      "[10, 11, 12, 13]\n",
      "[20, 21, 22, 23]\n",
      "[30, 31, 32, 33]\n",
      "[40, 41, 42, 43]\n",
      "]\n",
      "\n",
      " after rotation: \n",
      "\n",
      "[\n",
      "[40, 30, 20, 10]\n",
      "[41, 31, 21, 11]\n",
      "[42, 32, 22, 12]\n",
      "[43, 33, 23, 13]\n",
      "]\n"
     ]
    }
   ],
   "source": [
    "# Q7. Correct Answer\n",
    "\n",
    "\n",
    "#   top → 1 2 3 4  right\n",
    "#                     ↓\n",
    "#   4                 1\n",
    "#   3                 2\n",
    "#   2                 3\n",
    "#   1                 4\n",
    "#   ↑                   \n",
    "#   left  4 3 2 1 ←  bottom\n",
    "\n",
    "\n",
    "def rotate_matrix(matrix):\n",
    "    '''rotates a matrix 90 degrees clockwise'''\n",
    "    nRows = len(matrix)\n",
    "    \n",
    "    # for each row(=column), in other words for each layers (layers are considered from outward to inward)\n",
    "    # rc  can be used as row index in [bottom,top] and col Index in [left,right]\n",
    "    for rc in range(nRows // 2):  \n",
    "         \n",
    "        \n",
    "        # for each element in the row or column  \n",
    "        #By moving to each inner layer, the number of cells become less \n",
    "        for i in range(rc, nRows - rc - 1):\n",
    "            \n",
    "            # save top\n",
    "            top = matrix[rc][i]\n",
    "\n",
    "            \n",
    "            # top <- left\n",
    "            matrix[rc][i] = matrix[-i - 1][rc]\n",
    "    \n",
    "            \n",
    "\n",
    "            # left <- bottom\n",
    "            matrix[-i-1][rc]= matrix[-rc - 1][-i-1]\n",
    "\n",
    "\n",
    "\n",
    "            # bottom <-right\n",
    "            matrix[-rc-1][-i-1]= matrix[i][- rc - 1]\n",
    "\n",
    "            # right <- top\n",
    "            matrix[i][-rc-1]= top\n",
    "        \n",
    "        \n",
    "          \n",
    "            \n",
    "        \n",
    "    return matrix        \n",
    "            \n",
    "  \n",
    "arr=create2DArray(nRows=4)\n",
    "p(arr)\n",
    "ans= rotate_matrix(arr)\n",
    "print(\"\\n after rotation: \\n\")\n",
    "p(ans)"
   ]
  },
  {
   "cell_type": "code",
   "execution_count": 89,
   "metadata": {},
   "outputs": [
    {
     "name": "stdout",
     "output_type": "stream",
     "text": [
      "\n",
      "*********\n",
      " \n",
      "layer:  0\n",
      "\n",
      "\n",
      "i:  0\n",
      "------ \n",
      " \n",
      "top <- left:\t  10 <- 40 \n",
      "\n",
      "left <- bottom:\t  40 <- 43 \n",
      "\n",
      "bottom <-right:   43 <- 13 \n",
      "\n",
      "right <- top:\t  13 <- 10 \n",
      "\n",
      "[\n",
      "[40, 11, 12, 10]\n",
      "[20, 21, 22, 23]\n",
      "[30, 31, 32, 33]\n",
      "[43, 41, 42, 13]\n",
      "]\n",
      "\n",
      "\n",
      "i:  1\n",
      "------ \n",
      " \n",
      "top <- left:\t  11 <- 30 \n",
      "\n",
      "left <- bottom:\t  30 <- 42 \n",
      "\n",
      "bottom <-right:   42 <- 23 \n",
      "\n",
      "right <- top:\t  23 <- 11 \n",
      "\n",
      "[\n",
      "[40, 30, 12, 10]\n",
      "[20, 21, 22, 11]\n",
      "[42, 31, 32, 33]\n",
      "[43, 41, 23, 13]\n",
      "]\n",
      "\n",
      "\n",
      "i:  2\n",
      "------ \n",
      " \n",
      "top <- left:\t  12 <- 20 \n",
      "\n",
      "left <- bottom:\t  20 <- 41 \n",
      "\n",
      "bottom <-right:   41 <- 33 \n",
      "\n",
      "right <- top:\t  33 <- 12 \n",
      "\n",
      "[\n",
      "[40, 30, 20, 10]\n",
      "[41, 21, 22, 11]\n",
      "[42, 31, 32, 12]\n",
      "[43, 33, 23, 13]\n",
      "]\n",
      "\n",
      "*********\n",
      " \n",
      "layer:  1\n",
      "\n",
      "\n",
      "i:  1\n",
      "------ \n",
      " \n",
      "top <- left:\t  21 <- 31 \n",
      "\n",
      "left <- bottom:\t  31 <- 32 \n",
      "\n",
      "bottom <-right:   32 <- 22 \n",
      "\n",
      "right <- top:\t  22 <- 21 \n",
      "\n",
      "[\n",
      "[40, 30, 20, 10]\n",
      "[41, 31, 21, 11]\n",
      "[42, 32, 22, 12]\n",
      "[43, 33, 23, 13]\n",
      "]\n"
     ]
    }
   ],
   "source": [
    "# Q7. Correct Answer with print out to understand the solution\n",
    "\n",
    "# top ..... right\n",
    "# .          .\n",
    "# .          .\n",
    "# .          .\n",
    "# left .... bottom\n",
    "\n",
    "\n",
    "#   top → 1 2 3 4  right\n",
    "#                     ↓\n",
    "#   4                 1\n",
    "#   3                 2\n",
    "#   2                 3\n",
    "#   1                 4\n",
    "#   ↑                   \n",
    "#   left  4 3 2 1 ←  bottom\n",
    "\n",
    "\n",
    "def rotate_matrix(matrix):\n",
    "    '''rotates a matrix 90 degrees clockwise'''\n",
    "    nRows = len(matrix)\n",
    "    \n",
    "    # for each row(=column), in other words for each layers (layers are considered from outward to inward)\n",
    "    # rc  can be used as row index in [bottom,top] and col Index in [left,right]\n",
    "    for rc in range(nRows // 2):  \n",
    "        print(\"\\n*********\\n \") \n",
    "        print(\"layer: \", rc)\n",
    "        # for each element in the row or column  \n",
    "        #By moving to each inner layer, the number of cells become less \n",
    "        for i in range(rc, nRows - rc - 1):\n",
    "            \n",
    "            # save top\n",
    "            top = matrix[rc][i]\n",
    "            print(\"\\n\\ni: \", i)\n",
    "            print(\"------ \\n \") \n",
    "\n",
    "            \n",
    "            # top <- left\n",
    "            print(\"top <- left:\\t \", matrix[rc][i] ,\"<-\", matrix[-i - 1][rc] ,\"\\n\")\n",
    "            matrix[rc][i] = matrix[-i - 1][rc]\n",
    "    \n",
    "            \n",
    "\n",
    "            # left <- bottom\n",
    "            print(\"left <- bottom:\\t \",matrix[-i-1][rc],\"<-\", matrix[-rc - 1][-i-1] ,\"\\n\")\n",
    "            matrix[-i-1][rc]= matrix[-rc - 1][-i-1]\n",
    "\n",
    "\n",
    "\n",
    "            # bottom <-right\n",
    "            print(\"bottom <-right:  \", matrix[-rc - 1][-i - 1],\"<-\",matrix[i][- rc - 1] ,\"\\n\")\n",
    "            matrix[-rc-1][-i-1]= matrix[i][- rc - 1]\n",
    "\n",
    "            # right <- top\n",
    "            print(\"right <- top:\\t \", matrix[i][-rc-1],\"<-\", top ,\"\\n\")\n",
    "            matrix[i][-rc-1]= top\n",
    "        \n",
    "        \n",
    "            p(matrix)\n",
    "            \n",
    "        \n",
    "    return matrix        \n",
    "            \n",
    "  \n",
    "\n",
    "arr=create2DArray(nRows=4)\n",
    "ans= rotate_matrix(arr)\n"
   ]
  },
  {
   "cell_type": "markdown",
   "metadata": {},
   "source": [
    "# Q8"
   ]
  },
  {
   "cell_type": "code",
   "execution_count": 49,
   "metadata": {},
   "outputs": [
    {
     "name": "stdout",
     "output_type": "stream",
     "text": [
      "[\n",
      "[3, 8, 0, 7]\n",
      "[5, 9, 2, 6]\n",
      "[9, 1, 5, 5]\n",
      "[7, 2, 5, 8]\n",
      "]\n"
     ]
    }
   ],
   "source": [
    " # Prepare Input \n",
    "import random\n",
    "def create2DArray(nRows=4):\n",
    " \n",
    "    arr=[]\n",
    "    for i in range(nRows): \n",
    "        a=[random.randint(0,10) for j in range(nRows)]\n",
    "        arr.append(a)\n",
    "        \n",
    "    return arr\n",
    " \n",
    "    \n",
    "    \n",
    "def p(arr):\n",
    "    \n",
    "    print('[')\n",
    "    for i in range(len(arr)):\n",
    "        print(arr[i])\n",
    "    print(']')  \n",
    "\n",
    "arr1=create2DArray(nRows=4)\n",
    "p(arr1)"
   ]
  },
  {
   "cell_type": "code",
   "execution_count": 52,
   "metadata": {},
   "outputs": [
    {
     "name": "stdout",
     "output_type": "stream",
     "text": [
      "[\n",
      "[0, 0, 0, 0]\n",
      "[5, 9, 0, 6]\n",
      "[9, 1, 0, 5]\n",
      "[7, 2, 0, 8]\n",
      "]\n"
     ]
    }
   ],
   "source": [
    "#4.58\n",
    "import copy\n",
    "\n",
    "def q8(arr):\n",
    "    \n",
    "    m = len(arr)\n",
    "    n = len(arr[0])\n",
    "    \n",
    "    rows=[False for i in range(m)]\n",
    "    cols=[False for i in range(n)]\n",
    "    \n",
    "    for r in range(m):\n",
    "        for c in range(n):\n",
    "            if arr[r][c]==0:\n",
    "                rows[r]=True\n",
    "                cols[c]=True\n",
    "     \n",
    "         \n",
    "    #Nulify Rows \n",
    "    for index,r in enumerate(rows):\n",
    "        if r:\n",
    "            for c in range(n):\n",
    "                arr[index][c]=0\n",
    "    \n",
    "    \n",
    "    #Nulify Cols \n",
    "    for index,c in enumerate(cols):\n",
    "        if c:\n",
    "            for r in range(m):\n",
    "                arr[r][index]=0\n",
    "                \n",
    "    \n",
    "    return arr\n",
    "\n",
    "\n",
    "\n",
    "\n",
    "arr = copy.deepcopy(arr1)\n",
    " \n",
    "ans=q8(arr)\n",
    "p(ans)"
   ]
  },
  {
   "cell_type": "code",
   "execution_count": 54,
   "metadata": {},
   "outputs": [
    {
     "name": "stdout",
     "output_type": "stream",
     "text": [
      "[\n",
      "[0, 0, 0, 0]\n",
      "[5, 9, 0, 6]\n",
      "[9, 1, 0, 5]\n",
      "[7, 2, 0, 8]\n",
      "]\n"
     ]
    }
   ],
   "source": [
    "\n",
    "def q8_b(arr):\n",
    "    for r in range(len(arr)):\n",
    "        for c in range(len(arr[0])):\n",
    "            if arr[r][c]==0:\n",
    "                for j in range(len(arr[r])):\n",
    "                    val=arr[r][j]\n",
    "                    arr[r][j]='N'if val != 0 else val\n",
    "                for j in range(len(arr)):\n",
    "                    val=arr[j][c]\n",
    "                    arr[j][c]='N' if val!=0 else val\n",
    "\n",
    "    for r in range(len(arr)):\n",
    "        for c in range(len(arr[0])):\n",
    "            if arr[r][c]=='N':\n",
    "                arr[r][c]=0\n",
    "                \n",
    "\n",
    "arr = copy.deepcopy(arr1)  \n",
    "q8_b(arr)\n",
    "p(arr)"
   ]
  },
  {
   "cell_type": "code",
   "execution_count": 57,
   "metadata": {},
   "outputs": [
    {
     "name": "stdout",
     "output_type": "stream",
     "text": [
      "[\n",
      "[0, 0, 0, 0]\n",
      "[5, 9, 0, 6]\n",
      "[9, 1, 0, 5]\n",
      "[7, 2, 0, 8]\n",
      "]\n"
     ]
    }
   ],
   "source": [
    "def q8_c(arr):\n",
    "    ls=[]\n",
    "    for r in range(len(arr)):\n",
    "        for c in range(len(arr[0])):\n",
    "            if arr[r][c]==0:\n",
    "                ls.append((r,c))  \n",
    "\n",
    "    for r,c in ls:\n",
    "        for j in range(len(arr[r])):\n",
    "            arr[r][j]=0\n",
    "        for j in range(len(arr)):\n",
    "            arr[j][c]=0\n",
    "            \n",
    "\n",
    "arr = copy.deepcopy(arr1)  \n",
    "q8_c(arr)\n",
    "p(arr)"
   ]
  },
  {
   "cell_type": "markdown",
   "metadata": {},
   "source": [
    "# Q9"
   ]
  },
  {
   "cell_type": "code",
   "execution_count": 144,
   "metadata": {},
   "outputs": [],
   "source": [
    "def substring(str1, str2):\n",
    "    return str1 in str2 * 2\n",
    "\n",
    "\n",
    "def Q9(str1, str2):\n",
    "    if len(str1) == len(str2) != 0:\n",
    "        return substring(str1, str2)\n",
    "    return False"
   ]
  },
  {
   "cell_type": "code",
   "execution_count": 145,
   "metadata": {},
   "outputs": [
    {
     "data": {
      "text/plain": [
       "True"
      ]
     },
     "execution_count": 145,
     "metadata": {},
     "output_type": "execute_result"
    }
   ],
   "source": [
    "str1=\"waterbottle\"\n",
    "str2=\"erbottlewat\"\n",
    "\n",
    "substring(str1, str2)"
   ]
  }
 ],
 "metadata": {
  "kernelspec": {
   "display_name": "Python 3",
   "language": "python",
   "name": "python3"
  },
  "language_info": {
   "codemirror_mode": {
    "name": "ipython",
    "version": 3
   },
   "file_extension": ".py",
   "mimetype": "text/x-python",
   "name": "python",
   "nbconvert_exporter": "python",
   "pygments_lexer": "ipython3",
   "version": "3.8.2"
  },
  "toc": {
   "base_numbering": 1,
   "nav_menu": {},
   "number_sections": true,
   "sideBar": true,
   "skip_h1_title": false,
   "title_cell": "Table of Contents",
   "title_sidebar": "Contents",
   "toc_cell": false,
   "toc_position": {},
   "toc_section_display": true,
   "toc_window_display": false
  },
  "varInspector": {
   "cols": {
    "lenName": 16,
    "lenType": 16,
    "lenVar": 40
   },
   "kernels_config": {
    "python": {
     "delete_cmd_postfix": "",
     "delete_cmd_prefix": "del ",
     "library": "var_list.py",
     "varRefreshCmd": "print(var_dic_list())"
    },
    "r": {
     "delete_cmd_postfix": ") ",
     "delete_cmd_prefix": "rm(",
     "library": "var_list.r",
     "varRefreshCmd": "cat(var_dic_list()) "
    }
   },
   "types_to_exclude": [
    "module",
    "function",
    "builtin_function_or_method",
    "instance",
    "_Feature"
   ],
   "window_display": false
  }
 },
 "nbformat": 4,
 "nbformat_minor": 4
}
