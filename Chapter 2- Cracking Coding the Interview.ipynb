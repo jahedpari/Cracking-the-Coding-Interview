{
 "cells": [
  {
   "cell_type": "markdown",
   "metadata": {},
   "source": [
    "# Basic Concepts and Helper Functions"
   ]
  },
  {
   "cell_type": "code",
   "execution_count": 46,
   "metadata": {},
   "outputs": [
    {
     "name": "stdout",
     "output_type": "stream",
     "text": [
      "13 -> 10 -> 16 -> 11 -> 14 -> 20 -> 20 -> 18 -> 10 -> 15 -> None\n"
     ]
    }
   ],
   "source": [
    "class Node:\n",
    "    \n",
    "    def __init__(self, data):\n",
    "        self.data=data\n",
    "        self.next=None\n",
    "        \n",
    " \n",
    "\n",
    "def makeLinkedList(arr, index=0):\n",
    "    \n",
    "    if index>= len(arr):\n",
    "        return None\n",
    "    \n",
    "    n=Node(arr[index])\n",
    "    index+=1\n",
    "    n.next= makeLinkedList(arr, index)\n",
    "    return n\n",
    "    \n",
    "    \n",
    "def printLinkedList(node):\n",
    "    \n",
    "    while node:\n",
    "        print(node.data, end=\" -> \")\n",
    "        node=node.next\n",
    "    print(\"None\")\n",
    "\n",
    "    \n",
    "# make a sample LinkedList\n",
    "import random        \n",
    "arr = [random.randint(10,20) for i in range(10)]\n",
    "\n",
    "sampleRoot= makeLinkedList(arr)\n",
    "printLinkedList(sampleRoot)"
   ]
  },
  {
   "cell_type": "markdown",
   "metadata": {},
   "source": [
    "# Q1"
   ]
  },
  {
   "cell_type": "markdown",
   "metadata": {},
   "source": [
    "## Part 1"
   ]
  },
  {
   "cell_type": "code",
   "execution_count": 17,
   "metadata": {},
   "outputs": [],
   "source": [
    "import random\n",
    "# using set\n",
    "def delDups(n):\n",
    "    \n",
    "    set_=set()\n",
    "    \n",
    "    while n:\n",
    "        if n.data not in set_:\n",
    "            set_.add(n.data)\n",
    "            previous=n\n",
    "        else:\n",
    "            previous.next=n.next\n",
    "        \n",
    "        \n",
    "        n=n.next\n",
    "\n",
    "        "
   ]
  },
  {
   "cell_type": "code",
   "execution_count": 18,
   "metadata": {},
   "outputs": [
    {
     "name": "stdout",
     "output_type": "stream",
     "text": [
      "12 -> 19 -> 20 -> 14 -> 16 -> 13 -> 14 -> 15 -> 11 -> 12 -> None\n",
      "12 -> 19 -> 20 -> 14 -> 16 -> 13 -> 15 -> 11 -> None\n"
     ]
    }
   ],
   "source": [
    "arr = [random.randint(10,20) for i in range(10)]\n",
    "\n",
    "sampleRoot= makeLinkedList(arr)\n",
    "printLinkedList(sampleRoot)\n",
    "\n",
    "delDups(sampleRoot)\n",
    "printLinkedList(sampleRoot)"
   ]
  },
  {
   "cell_type": "markdown",
   "metadata": {},
   "source": [
    "## Part 2"
   ]
  },
  {
   "cell_type": "code",
   "execution_count": 21,
   "metadata": {},
   "outputs": [],
   "source": [
    "# follow up, with no use of buffer    \n",
    "def delDups_2(n):\n",
    "    while n:\n",
    "        #pointer= Node(n.data)\n",
    "        pointer=n.next\n",
    "        previous= n\n",
    "        \n",
    "        while pointer:\n",
    "            \n",
    "            if n.data==pointer.data:\n",
    "                previous.next=pointer.next\n",
    "            else:    \n",
    "                previous= pointer\n",
    "                \n",
    "                \n",
    "            pointer=pointer.next\n",
    "            \n",
    "        n=n.next\n",
    "        \n",
    "        "
   ]
  },
  {
   "cell_type": "code",
   "execution_count": 22,
   "metadata": {},
   "outputs": [
    {
     "name": "stdout",
     "output_type": "stream",
     "text": [
      "5 -> 5 -> 9 -> 5 -> 5 -> 5 -> 10 -> None\n",
      "5 -> 9 -> 10 -> None\n"
     ]
    }
   ],
   "source": [
    "arr = [5,5,9,5,5,5,10]\n",
    "\n",
    "sampleRoot= makeLinkedList(arr)\n",
    "printLinkedList(sampleRoot)\n",
    "\n",
    "delDups_2(sampleRoot)\n",
    "printLinkedList(sampleRoot)"
   ]
  },
  {
   "cell_type": "markdown",
   "metadata": {},
   "source": [
    "## Q2\n"
   ]
  },
  {
   "cell_type": "code",
   "execution_count": 26,
   "metadata": {},
   "outputs": [],
   "source": [
    "def Q2_a(n, k):\n",
    "    \n",
    "    runner=n\n",
    "    \n",
    "    for i in range(k):\n",
    "        if not runner:\n",
    "            return \"Error\"\n",
    "        runner=runner.next\n",
    "        \n",
    "    while runner:\n",
    "        runner=runner.next\n",
    "        n=n.next\n",
    "    return n.data\n",
    "    \n",
    "    \n",
    "    "
   ]
  },
  {
   "cell_type": "code",
   "execution_count": 32,
   "metadata": {},
   "outputs": [],
   "source": [
    "#using recurssion\n",
    "def Q2(n, k):\n",
    "    \n",
    "    if not n:\n",
    "        return 0\n",
    "    \n",
    "    print(\"data Forward:\", n.data)\n",
    "    \n",
    "    counter= Q2(n.next,k)+1\n",
    "    \n",
    "    print(\"data Backward:\", n.data, \"counter\", counter)\n",
    "\n",
    "    \n",
    "    if counter== k:\n",
    "        print(\"anser is: \", n.data)\n",
    "\n",
    "    \n",
    "    return counter \n",
    "    \n",
    "\n",
    "     \n",
    "    "
   ]
  },
  {
   "cell_type": "code",
   "execution_count": 31,
   "metadata": {},
   "outputs": [
    {
     "name": "stdout",
     "output_type": "stream",
     "text": [
      "19 -> 16 -> 20 -> 14 -> 20 -> 14 -> 15 -> 13 -> 14 -> 15 -> None\n",
      "data Forward: 19\n",
      "data Forward: 16\n",
      "data Forward: 20\n",
      "data Forward: 14\n",
      "data Forward: 20\n",
      "data Forward: 14\n",
      "data Forward: 15\n",
      "data Forward: 13\n",
      "data Forward: 14\n",
      "data Forward: 15\n",
      "data Backward: 15 counter 1\n",
      "data Backward: 14 counter 2\n",
      "data Backward: 13 counter 3\n",
      "anser is:  13\n",
      "data Backward: 15 counter 4\n",
      "data Backward: 14 counter 5\n",
      "data Backward: 20 counter 6\n",
      "data Backward: 14 counter 7\n",
      "data Backward: 20 counter 8\n",
      "data Backward: 16 counter 9\n",
      "data Backward: 19 counter 10\n"
     ]
    },
    {
     "data": {
      "text/plain": [
       "13"
      ]
     },
     "execution_count": 31,
     "metadata": {},
     "output_type": "execute_result"
    }
   ],
   "source": [
    "arr = [random.randint(10,20) for i in range(10)]\n",
    "\n",
    "sampleRoot= makeLinkedList(arr)\n",
    "printLinkedList(sampleRoot)\n",
    "\n",
    "Q2(sampleRoot,3)\n",
    "Q2_a(sampleRoot,3)"
   ]
  },
  {
   "cell_type": "markdown",
   "metadata": {},
   "source": [
    "# Q3"
   ]
  },
  {
   "cell_type": "code",
   "execution_count": 33,
   "metadata": {},
   "outputs": [],
   "source": [
    "def Q3(n):\n",
    "    \n",
    "    if n and n.next:\n",
    "        n.data=n.next.data\n",
    "        n.next=n.next.next\n",
    "        return True\n",
    "        \n",
    "    else:\n",
    "        return (\"Error\")\n",
    "    \n",
    "    \n"
   ]
  },
  {
   "cell_type": "markdown",
   "metadata": {},
   "source": [
    "#  Q4"
   ]
  },
  {
   "cell_type": "markdown",
   "metadata": {},
   "source": [
    "##  Option 1"
   ]
  },
  {
   "cell_type": "code",
   "execution_count": 147,
   "metadata": {},
   "outputs": [],
   "source": [
    "def Q4(n, x):\n",
    "    \n",
    "    head= n\n",
    "    tail= n\n",
    " \n",
    "    \n",
    "    while n:\n",
    "        next=n.next # keep next at this step, in case we lost connection below\n",
    "        \n",
    "        if n.data< x:\n",
    "            n.next=head # add node to the head\n",
    "            head=n #to keep pointer to the head\n",
    "            \n",
    "        else:\n",
    "             \n",
    "             tail.next=n # add node to the tail\n",
    "             tail=n   #to keep pointer to the tail\n",
    "                \n",
    "        n=next  \n",
    "        \n",
    "        \n",
    "    tail.next=None\n",
    "    return head\n"
   ]
  },
  {
   "cell_type": "code",
   "execution_count": 148,
   "metadata": {},
   "outputs": [
    {
     "name": "stdout",
     "output_type": "stream",
     "text": [
      "17 -> 20 -> 19 -> 16 -> 19 -> 12 -> 17 -> 16 -> 17 -> 18 -> None\n",
      "12 -> 17 -> 20 -> 19 -> 16 -> 19 -> 17 -> 16 -> 17 -> 18 -> None\n"
     ]
    }
   ],
   "source": [
    "arr = [random.randint(10,20) for i in range(10)]\n",
    "\n",
    "sampleRoot= makeLinkedList(arr)\n",
    "printLinkedList(sampleRoot)\n",
    "\n",
    "head=Q4(sampleRoot,15)\n",
    "printLinkedList(head)"
   ]
  },
  {
   "cell_type": "markdown",
   "metadata": {},
   "source": [
    "## Option 2"
   ]
  },
  {
   "cell_type": "code",
   "execution_count": 43,
   "metadata": {},
   "outputs": [],
   "source": [
    "def Q4_b(n, x):\n",
    "    \n",
    "    head_less=None\n",
    "    tail_less=None\n",
    "    head_more=None\n",
    "    tail_more=None\n",
    "    \n",
    "    \n",
    "    \n",
    "    while n:\n",
    "        next=n.next\n",
    "        \n",
    "        if n.data<x:\n",
    "            if not head_less:\n",
    "                tail_less=n\n",
    "                head_less=n\n",
    "\n",
    "            else:\n",
    "                tail_less.next=n\n",
    "                tail_less=tail_less.next\n",
    "                \n",
    "        else:\n",
    "            if not head_more:\n",
    "                head_more=n\n",
    "                tail_more=n\n",
    "            else:\n",
    "                tail_more.next=n\n",
    "                tail_more=tail_more.next\n",
    "                \n",
    "                \n",
    "        n=next\n",
    "    \n",
    "    \n",
    "    \n",
    "    if not head_less:\n",
    "        return head_more\n",
    "        \n",
    "  \n",
    "    #merge\n",
    "    tail_less.next=head_more\n",
    "    \n",
    "    if tail_more:\n",
    "        tail_more.next=None\n",
    "    \n",
    "    return head_less\n",
    "             \n",
    "            "
   ]
  },
  {
   "cell_type": "code",
   "execution_count": 45,
   "metadata": {},
   "outputs": [
    {
     "name": "stdout",
     "output_type": "stream",
     "text": [
      "15 -> 18 -> 13 -> 13 -> 20 -> 12 -> 20 -> 18 -> 18 -> 18 -> None\n",
      "15 -> 18 -> 13 -> 13 -> 20 -> 12 -> 20 -> 18 -> 18 -> 18 -> None\n",
      "15 -> 18 -> 13 -> 13 -> 20 -> 12 -> 20 -> 18 -> 18 -> 18 -> None\n"
     ]
    }
   ],
   "source": [
    "arr = [random.randint(10,20) for i in range(10)]\n",
    "\n",
    "sampleRoot= makeLinkedList(arr)\n",
    "printLinkedList(sampleRoot)\n",
    "\n",
    "head=Q4_a(sampleRoot,25)\n",
    "printLinkedList(head)\n",
    "\n",
    "head=Q4_b(sampleRoot,25)\n",
    "printLinkedList(head)\n",
    "\n",
    "# head=Q4_b(sampleRoot,15)\n",
    "# printLinkedList(head)\n",
    "\n",
    "\n",
    "# head=Q4_b(sampleRoot,25)\n",
    "# printLinkedList(head)"
   ]
  },
  {
   "cell_type": "markdown",
   "metadata": {},
   "source": [
    "# Q5"
   ]
  },
  {
   "cell_type": "code",
   "execution_count": 52,
   "metadata": {},
   "outputs": [],
   "source": [
    "\n",
    "\n",
    "def Q5_p1(n1, n2):\n",
    "    \n",
    "    carry=0\n",
    "    result=Node(-1)  # a dummy head at the start\n",
    "    head=result\n",
    "    \n",
    "    while n1 and n2:\n",
    "        sum_= n1.data+n2.data+  carry \n",
    "\n",
    "\n",
    "        carry=sum_//10\n",
    "        sum_=sum_%10\n",
    "        \n",
    "        n1=n1.next\n",
    "        n2= n2.next\n",
    "        \n",
    "        result.next=Node(sum_)\n",
    "        result=result.next\n",
    "        \n",
    "    \n",
    "    if not n1 and not n2 and  carry>0:\n",
    "        result.next=Node(carry)\n",
    "        result=result.next\n",
    "    \n",
    "    # if one list was shorter than the other one  \n",
    "    addlist(n1, carry, result)\n",
    "    addlist(n2, carry, result)\n",
    "\n",
    "    \n",
    "\n",
    "    head=head.next \n",
    "    return head\n",
    "    \n",
    "def addlist(n, carry, result):\n",
    "    while n:\n",
    "        result.next=Node(n.data+carry)\n",
    "        result=result.next\n",
    "        n=n.next"
   ]
  },
  {
   "cell_type": "code",
   "execution_count": 53,
   "metadata": {},
   "outputs": [
    {
     "name": "stdout",
     "output_type": "stream",
     "text": [
      "8 -> 4 -> 5 -> 0 -> 7 -> 3 -> 6 -> None\n",
      "5 -> 1 -> 8 -> 4 -> 1 -> None\n",
      "3 -> 6 -> 3 -> 5 -> 8 -> 3 -> 6 -> None\n"
     ]
    }
   ],
   "source": [
    "arr1 = [random.randint(0,9) for i in range(7)]\n",
    "\n",
    "sampleRoot1= makeLinkedList(arr1)\n",
    "printLinkedList(sampleRoot1)\n",
    "\n",
    "\n",
    "arr2 = [random.randint(0,9) for i in range(5)]\n",
    "\n",
    "sampleRoot2= makeLinkedList(arr2)\n",
    "printLinkedList(sampleRoot2)\n",
    "\n",
    "head=Q5_p1(sampleRoot1,sampleRoot2 )\n",
    "printLinkedList(head)"
   ]
  },
  {
   "cell_type": "code",
   "execution_count": 54,
   "metadata": {},
   "outputs": [
    {
     "name": "stdout",
     "output_type": "stream",
     "text": [
      "6370548 + 14815 = 6385363\n"
     ]
    }
   ],
   "source": [
    "def convert_to_num(arr):\n",
    "    value, n=0,0\n",
    "    for i in arr:\n",
    "            value=value+i*(10**n)\n",
    "            n+=1\n",
    "\n",
    "    return value\n",
    "\n",
    "\n",
    "num1= convert_to_num(arr1)\n",
    "num2= convert_to_num(arr2)\n",
    "ans=num1+num2\n",
    "print(num1,\"+\", num2, \"=\", ans)"
   ]
  },
  {
   "cell_type": "markdown",
   "metadata": {},
   "source": [
    "##  Follow UP"
   ]
  },
  {
   "cell_type": "code",
   "execution_count": 154,
   "metadata": {},
   "outputs": [],
   "source": [
    "def Q5_p2(n1, n2):\n",
    "    \n",
    "    diff=get_lenght(n1)-get_lenght(n2) \n",
    "    \n",
    "    if diff>0:\n",
    "        n2=insert_before(n2,  diff)\n",
    "    elif diff<0:\n",
    "        n1=insert_before(n1, abs(diff))\n",
    "    \n",
    "    n1=reverse_list(n1)\n",
    "    n2=reverse_list(n2)\n",
    "    ans= Q5_p1(n1, n2)\n",
    "    return reverse_list(ans)\n",
    "    \n",
    "    \n",
    "def get_lenght(n):\n",
    "    \n",
    "    counter=0\n",
    "    while n:\n",
    "        n=n.next\n",
    "        counter+=1\n",
    "    return counter\n",
    "\n",
    "def insert_before(n, lenght):\n",
    "    if not n:\n",
    "        return \"error\"\n",
    "    for i in range(lenght):\n",
    "        node1= Node(0)\n",
    "        node1.next=n\n",
    "        n=node1\n",
    "    return n\n",
    "\n",
    "def reverse_list(n):\n",
    "    if not n:\n",
    "        return\n",
    "    \n",
    "    t=n\n",
    "    previous=n\n",
    "    current=n.next\n",
    "    while current:\n",
    "\n",
    "        next=current.next\n",
    "        current.next= previous\n",
    "        previous=current\n",
    "        current=next\n",
    " \n",
    "    t.next=None\n",
    "    return previous"
   ]
  },
  {
   "cell_type": "code",
   "execution_count": 155,
   "metadata": {},
   "outputs": [
    {
     "name": "stdout",
     "output_type": "stream",
     "text": [
      "1 -> 8 -> 9 -> 3 -> 4 -> 3 -> 0 -> None\n",
      "6 -> 0 -> 3 -> 3 -> 7 -> None\n"
     ]
    }
   ],
   "source": [
    "arr1 = [random.randint(0,9) for i in range(7)]\n",
    "\n",
    "sampleRoot1= makeLinkedList(arr1)\n",
    "printLinkedList(sampleRoot1)\n",
    "\n",
    "\n",
    "arr2 = [random.randint(0,9) for i in range(5)]\n",
    "\n",
    "sampleRoot2= makeLinkedList(arr2)\n",
    "printLinkedList(sampleRoot2)\n",
    "\n"
   ]
  },
  {
   "cell_type": "code",
   "execution_count": 156,
   "metadata": {},
   "outputs": [
    {
     "name": "stdout",
     "output_type": "stream",
     "text": [
      "1 -> 9 -> 5 -> 3 -> 7 -> 6 -> 7 -> None\n",
      "1893430 + 60337 = 1953767\n"
     ]
    }
   ],
   "source": [
    "head=Q5_p2(sampleRoot1,sampleRoot2 )\n",
    "printLinkedList(head)\n",
    "\n",
    "arr1.reverse()\n",
    "arr2.reverse()\n",
    "num1= convert_to_num(arr1)\n",
    "num2= convert_to_num(arr2)\n",
    "ans=num1+num2\n",
    "print(num1,\"+\", num2, \"=\", ans)"
   ]
  },
  {
   "cell_type": "markdown",
   "metadata": {},
   "source": [
    "# Q6"
   ]
  },
  {
   "cell_type": "code",
   "execution_count": 198,
   "metadata": {},
   "outputs": [],
   "source": [
    "def Q6_a(n):\n",
    "    \n",
    "    r=clone_reverse(n)\n",
    "    \n",
    "    while (r and n):\n",
    "        if r.data !=n.data:\n",
    "            return False\n",
    "        r=r.next\n",
    "        n=n.next\n",
    "    \n",
    "    if n or r:\n",
    "        return False\n",
    "    \n",
    "    return True\n",
    "    \n",
    "    \n",
    "def clone_reverse(n):\n",
    "    head=None\n",
    " \n",
    "    while n:\n",
    "        node=Node(n.data)\n",
    "        node.next=head\n",
    "        head=node\n",
    "        n=n.next\n",
    "        \n",
    "        \n",
    "    return head\n",
    "    \n"
   ]
  },
  {
   "cell_type": "code",
   "execution_count": 200,
   "metadata": {},
   "outputs": [],
   "source": [
    "def Q6_b(n):\n",
    "    \n",
    "    fast_runner=n\n",
    "    stack=[]\n",
    "    \n",
    "    # if even, runner ends with null    , n ends with lenght/2, stack will include exactly half of the data, \n",
    "    # if odd, runner ends with last node, n ends with lenght/2, stack will include exactly half of the data, \n",
    "    while fast_runner and fast_runner.next:\n",
    "        stack.append(n.data)\n",
    "        n = n.next\n",
    "        fast_runner = fast_runner.next.next\n",
    "        \n",
    "    \n",
    "    # if lenght is odd,\n",
    "    # must move n to the next node, but no need to push the middle data\n",
    "    if  fast_runner:\n",
    "         n=n.next  \n",
    "\n",
    "    while n:\n",
    "        if n.data !=stack.pop():\n",
    "            return False\n",
    "        n=n.next\n",
    "        \n",
    "\n",
    "    return True\n",
    "        \n",
    "     "
   ]
  },
  {
   "cell_type": "code",
   "execution_count": 201,
   "metadata": {},
   "outputs": [
    {
     "name": "stdout",
     "output_type": "stream",
     "text": [
      "5 -> 9 -> 7 -> 9 -> 2 -> 100 -> 2 -> 9 -> 7 -> 9 -> 5 -> None\n"
     ]
    },
    {
     "data": {
      "text/plain": [
       "True"
      ]
     },
     "execution_count": 201,
     "metadata": {},
     "output_type": "execute_result"
    }
   ],
   "source": [
    "# Test Odd Lenght\n",
    "arr = [random.randint(0,9) for i in range(5)]\n",
    "x=arr+[100]+arr[::-1]\n",
    "sampleRoot= makeLinkedList(x)\n",
    "printLinkedList(sampleRoot)\n",
    "\n",
    "Q6_a(sampleRoot)"
   ]
  },
  {
   "cell_type": "code",
   "execution_count": 202,
   "metadata": {},
   "outputs": [
    {
     "name": "stdout",
     "output_type": "stream",
     "text": [
      "3 -> 8 -> 6 -> 5 -> 7 -> 7 -> 5 -> 6 -> 8 -> 3 -> None\n"
     ]
    },
    {
     "data": {
      "text/plain": [
       "True"
      ]
     },
     "execution_count": 202,
     "metadata": {},
     "output_type": "execute_result"
    }
   ],
   "source": [
    "# Test even Lenght\n",
    "arr = [random.randint(0,9) for i in range(5)]\n",
    "x=arr+arr[::-1]\n",
    "sampleRoot= makeLinkedList(x)\n",
    "printLinkedList(sampleRoot)\n",
    "\n",
    "Q6_a(sampleRoot)"
   ]
  },
  {
   "cell_type": "markdown",
   "metadata": {},
   "source": [
    "# Q7"
   ]
  },
  {
   "cell_type": "markdown",
   "metadata": {},
   "source": [
    "##  Option 1: Using Set"
   ]
  },
  {
   "cell_type": "code",
   "execution_count": 214,
   "metadata": {},
   "outputs": [],
   "source": [
    "def Q7_a(l1, l2):\n",
    "    \n",
    "    s=set()\n",
    "    \n",
    "    while l1:\n",
    "        s.add(l1)\n",
    "        l1=l1.next\n",
    "    \n",
    "    while l2:\n",
    "        if l2 in s:\n",
    "            return l2\n",
    "        s.add(l2)\n",
    "        l2=l2.next  \n",
    "    return None\n",
    "    "
   ]
  },
  {
   "cell_type": "markdown",
   "metadata": {},
   "source": [
    "##  Option 2"
   ]
  },
  {
   "cell_type": "code",
   "execution_count": 215,
   "metadata": {},
   "outputs": [],
   "source": [
    "    \n",
    "def Q7(l1, l2):\n",
    "    \n",
    "    l1_size, t1= get_size_tail(l1)\n",
    "    l2_size, t2= get_size_tail(l2) \n",
    "    \n",
    "    if  t1 != t2:\n",
    "        return None\n",
    "    \n",
    "    diff= abs(l1_size-l2_size)\n",
    "    \n",
    "    if diff>0: \n",
    "        if l1_size> l2_size:\n",
    "           l1= move_head(l1, diff)\n",
    "        else:\n",
    "           l2= move_head(l2, diff)\n",
    "                \n",
    "                \n",
    "    while l1 is not l2:\n",
    "        l1= l1.next\n",
    "        l2= l2.next\n",
    "        \n",
    "    return l1\n",
    "    \n",
    "    \n",
    "def get_size_tail(n):    \n",
    "    counter=0\n",
    "    while n:\n",
    "        counter+=1\n",
    "        n=n.next\n",
    "    return counter, n\n",
    "    \n",
    "    \n",
    "def move_head(n,num):\n",
    "    for _ in range(num):\n",
    "        n=n.next\n",
    "    return n # remember to return n"
   ]
  },
  {
   "cell_type": "code",
   "execution_count": 216,
   "metadata": {},
   "outputs": [
    {
     "name": "stdout",
     "output_type": "stream",
     "text": [
      "4 -> 9 -> 1 -> 5 -> 7 -> None\n",
      "9 -> 5 -> 7 -> 6 -> 9 -> 5 -> 7 -> None\n",
      "node:  <__main__.Node object at 0x7f8ac485b2b0> data:  5\n"
     ]
    }
   ],
   "source": [
    "arr = [random.randint(0,9) for i in range(3)]\n",
    "sampleRoot1= makeLinkedList(arr)\n",
    " \n",
    "\n",
    "arr = [random.randint(0,9) for i in range(5)]\n",
    "sampleRoot2= makeLinkedList(arr)\n",
    "\n",
    "\n",
    "# add intersection\n",
    "\n",
    "def add(root, newNode):\n",
    "    while root.next:\n",
    "        root=root.next\n",
    "        \n",
    "    root.next= newNode\n",
    "    \n",
    "    \n",
    "n=Node(5)\n",
    "n.next=Node(7)\n",
    "add(sampleRoot1, n)\n",
    "add(sampleRoot2, n)\n",
    "\n",
    "printLinkedList(sampleRoot1)\n",
    "printLinkedList(sampleRoot2)\n",
    "\n",
    "node=Q7_a(sampleRoot1, sampleRoot2)\n",
    "if node:\n",
    "    print(\"node: \", node, \"data: \", node.data)\n",
    "else:\n",
    "    print(\"None\")"
   ]
  },
  {
   "cell_type": "markdown",
   "metadata": {},
   "source": [
    "# Q8"
   ]
  },
  {
   "cell_type": "markdown",
   "metadata": {},
   "source": [
    "##  Option 1: Using Set"
   ]
  },
  {
   "cell_type": "code",
   "execution_count": 414,
   "metadata": {},
   "outputs": [],
   "source": [
    "def Q8(n):\n",
    "    \n",
    "    st=set()\n",
    "    while n:\n",
    "        if n in st:\n",
    "            return n\n",
    "        st.add(n)\n",
    "        n=n.next\n",
    "    return n\n"
   ]
  },
  {
   "cell_type": "code",
   "execution_count": 416,
   "metadata": {},
   "outputs": [
    {
     "name": "stdout",
     "output_type": "stream",
     "text": [
      "9 -> 0 -> 0 -> 0 -> 7 -> 6 -> 8 -> None\n",
      "\n",
      "\n",
      "Test I\n",
      "No Loop\n",
      "\n",
      " \n",
      "Test II\n",
      "There is a loop at a node with data:  5\n"
     ]
    }
   ],
   "source": [
    "arr = [random.randint(0,9) for i in range(7)]\n",
    "sampleRoot1= makeLinkedList(arr)\n",
    "printLinkedList(sampleRoot1)\n",
    "\n",
    "print(\"\\n\\nTest I\")\n",
    "node=Q8(sampleRoot1)\n",
    "if node:\n",
    "    print(\"node: \", node, \"data: \", node.data)\n",
    "else:\n",
    "    print(\"No Loop\")\n",
    "    \n",
    "    \n",
    "    \n",
    "\n",
    "\n",
    "# add loop\n",
    "def add_loop(root, newNode):\n",
    "    while root.next:\n",
    "        root=root.next\n",
    "        \n",
    "    root.next= newNode\n",
    "    \n",
    "    \n",
    "n=Node(5)\n",
    "h=n\n",
    "n.next=Node(7)\n",
    "n=n.next\n",
    "n.next=h\n",
    "\n",
    "add_loop(sampleRoot1, h)\n",
    "##\n",
    "\n",
    "print(\"\\n \\nTest II\")\n",
    "node=Q8(sampleRoot1)\n",
    "if node:\n",
    "    print( \"There is a loop at a node with data: \",node.data)\n",
    "else:\n",
    "    print(\"No Loop\")"
   ]
  },
  {
   "cell_type": "markdown",
   "metadata": {},
   "source": [
    "## Option 2"
   ]
  },
  {
   "cell_type": "code",
   "execution_count": 422,
   "metadata": {},
   "outputs": [],
   "source": [
    "def Q8_2(head):\n",
    "    fast = head\n",
    "    slow = head \n",
    "\n",
    "    while fast and fast.next:\n",
    "        fast = fast.next.next\n",
    "        slow = slow.next\n",
    "        if fast == n: # if they met or fast ended\n",
    "            break\n",
    "\n",
    "    # if fast ended -> no loop\n",
    "    if fast==None or fast.next==None:\n",
    "        return None\n",
    "\n",
    "    # if they met-> there is a loop and\n",
    "    # the distance between head and the loop start point is equal to\n",
    "    # the distance between the collison point and the loop start point\n",
    "    slow = head\n",
    "    while fast != slow:\n",
    "        fast = fast.next\n",
    "        slow = slow.next\n",
    "\n",
    "    return fast"
   ]
  },
  {
   "cell_type": "code",
   "execution_count": 423,
   "metadata": {},
   "outputs": [
    {
     "name": "stdout",
     "output_type": "stream",
     "text": [
      "3 -> 0 -> 0 -> 1 -> 4 -> 6 -> 9 -> None\n",
      "\n",
      "\n",
      "Test I\n",
      "No Loop\n",
      "\n",
      " \n",
      "Test II\n",
      "There is a loop at a node with data:  5\n"
     ]
    }
   ],
   "source": [
    "arr = [random.randint(0,9) for i in range(7)]\n",
    "sampleRoot1= makeLinkedList(arr)\n",
    "printLinkedList(sampleRoot1)\n",
    "\n",
    "print(\"\\n\\nTest I\")\n",
    "node=Q8_2(sampleRoot1)\n",
    "if node:\n",
    "    print(\"node: \", node, \"data: \", node.data)\n",
    "else:\n",
    "    print(\"No Loop\")\n",
    "    \n",
    "    \n",
    "    \n",
    "\n",
    "\n",
    "# add loop\n",
    "def add_loop(root, newNode):\n",
    "    while root.next:\n",
    "        root=root.next\n",
    "        \n",
    "    root.next= newNode\n",
    "    \n",
    "    \n",
    "n=Node(5)\n",
    "h=n\n",
    "n.next=Node(7)\n",
    "n=n.next\n",
    "n.next=h\n",
    "\n",
    "add_loop(sampleRoot1, h)\n",
    "##\n",
    "\n",
    "print(\"\\n \\nTest II\")\n",
    "node=Q8_2(sampleRoot1)\n",
    "if node:\n",
    "    print( \"There is a loop at a node with data: \",node.data)\n",
    "else:\n",
    "    print(\"No Loop\")"
   ]
  },
  {
   "cell_type": "markdown",
   "metadata": {},
   "source": [
    "# Misc"
   ]
  },
  {
   "cell_type": "markdown",
   "metadata": {},
   "source": [
    "##  Reverse a Linked List"
   ]
  },
  {
   "cell_type": "code",
   "execution_count": 438,
   "metadata": {},
   "outputs": [],
   "source": [
    "def reverse_LL(n):\n",
    "    \n",
    "    head=None\n",
    "\n",
    "    while n:\n",
    "        next=n.next\n",
    "        n.next=head\n",
    "        head=n\n",
    "        n=next\n",
    "        \n",
    "    \n",
    "    return head\n",
    "    \n",
    "    "
   ]
  },
  {
   "cell_type": "code",
   "execution_count": 439,
   "metadata": {},
   "outputs": [
    {
     "name": "stdout",
     "output_type": "stream",
     "text": [
      "1 -> 9 -> 3 -> 7 -> 3 -> 4 -> 7 -> None\n",
      "7 -> 4 -> 3 -> 7 -> 3 -> 9 -> 1 -> None\n"
     ]
    }
   ],
   "source": [
    "arr = [random.randint(0,9) for i in range(7)]\n",
    "sampleRoot1= makeLinkedList(arr)\n",
    "printLinkedList(sampleRoot1)\n",
    "\n",
    "sampleRoot1=reverse_LL(sampleRoot1)\n",
    "printLinkedList(sampleRoot1)\n"
   ]
  },
  {
   "cell_type": "code",
   "execution_count": 443,
   "metadata": {},
   "outputs": [],
   "source": [
    "def clone_and_reverse_LL(root):\n",
    "    \n",
    "    head=None\n",
    "        \n",
    "    while root:\n",
    "        n=Node(root.data)\n",
    "        n.next=head\n",
    "        head=n\n",
    "        root=root.next\n",
    "      \n",
    "    return head\n",
    "    \n",
    "    "
   ]
  },
  {
   "cell_type": "code",
   "execution_count": 444,
   "metadata": {},
   "outputs": [
    {
     "name": "stdout",
     "output_type": "stream",
     "text": [
      "4 -> 8 -> 8 -> 6 -> 4 -> 4 -> 6 -> None\n",
      "6 -> 4 -> 4 -> 6 -> 8 -> 8 -> 4 -> None\n"
     ]
    }
   ],
   "source": [
    "arr = [random.randint(0,9) for i in range(7)]\n",
    "sampleRoot1= makeLinkedList(arr)\n",
    "printLinkedList(sampleRoot1)\n",
    "\n",
    "sampleRoot1=clone_and_reverse_LL(sampleRoot1)\n",
    "printLinkedList(sampleRoot1)"
   ]
  },
  {
   "cell_type": "code",
   "execution_count": null,
   "metadata": {},
   "outputs": [],
   "source": []
  }
 ],
 "metadata": {
  "kernelspec": {
   "display_name": "Python 3",
   "language": "python",
   "name": "python3"
  },
  "language_info": {
   "codemirror_mode": {
    "name": "ipython",
    "version": 3
   },
   "file_extension": ".py",
   "mimetype": "text/x-python",
   "name": "python",
   "nbconvert_exporter": "python",
   "pygments_lexer": "ipython3",
   "version": "3.8.2"
  },
  "toc": {
   "base_numbering": 1,
   "nav_menu": {},
   "number_sections": true,
   "sideBar": true,
   "skip_h1_title": false,
   "title_cell": "Table of Contents",
   "title_sidebar": "Contents",
   "toc_cell": false,
   "toc_position": {},
   "toc_section_display": true,
   "toc_window_display": false
  },
  "varInspector": {
   "cols": {
    "lenName": 16,
    "lenType": 16,
    "lenVar": 40
   },
   "kernels_config": {
    "python": {
     "delete_cmd_postfix": "",
     "delete_cmd_prefix": "del ",
     "library": "var_list.py",
     "varRefreshCmd": "print(var_dic_list())"
    },
    "r": {
     "delete_cmd_postfix": ") ",
     "delete_cmd_prefix": "rm(",
     "library": "var_list.r",
     "varRefreshCmd": "cat(var_dic_list()) "
    }
   },
   "types_to_exclude": [
    "module",
    "function",
    "builtin_function_or_method",
    "instance",
    "_Feature"
   ],
   "window_display": false
  }
 },
 "nbformat": 4,
 "nbformat_minor": 4
}
